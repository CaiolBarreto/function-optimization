{
 "cells": [
  {
   "attachments": {},
   "cell_type": "markdown",
   "metadata": {},
   "source": [
    "### Imports"
   ]
  },
  {
   "cell_type": "code",
   "execution_count": 3,
   "metadata": {},
   "outputs": [],
   "source": [
    "from functions import *\n",
    "from GeneticAlgorithm import genetic_algorithm\n",
    "from EvolutionaryAlgorithm import evolution_strategy\n",
    "import numpy"
   ]
  },
  {
   "attachments": {},
   "cell_type": "markdown",
   "metadata": {},
   "source": [
    "### Constants"
   ]
  },
  {
   "cell_type": "code",
   "execution_count": 4,
   "metadata": {},
   "outputs": [],
   "source": [
    "POPULATION_SIZE = 200\n",
    "NUM_GENERATIONS = 1000\n",
    "MUTATION_RATE = 0.2\n",
    "CROSSOVER_PROB = 0.7\n",
    "NUM_CHILDS = 20\n",
    "ELITISM_SIZE = 5\n",
    "DIMENSIONS = 30\n",
    "NUMBER_OF_EXECUTIONS = 5"
   ]
  },
  {
   "attachments": {},
   "cell_type": "markdown",
   "metadata": {},
   "source": [
    "### Implementations"
   ]
  },
  {
   "attachments": {},
   "cell_type": "markdown",
   "metadata": {},
   "source": [
    "##### Ackley Function"
   ]
  },
  {
   "cell_type": "code",
   "execution_count": 5,
   "metadata": {},
   "outputs": [],
   "source": [
    "min_value, max_value = -32.768, 32.768\n",
    "ackley_min_values_genetic = []\n",
    "ackley_min_values_evolutionary = []\n",
    "params = {\n",
    "    \"pop_size\": POPULATION_SIZE,\n",
    "    \"num_generations\": NUM_GENERATIONS,\n",
    "    \"mutation_rate\": MUTATION_RATE,\n",
    "    \"crossover_prob\": CROSSOVER_PROB,\n",
    "    \"elitism_size\": ELITISM_SIZE,\n",
    "    \"num_childs\": NUM_CHILDS,\n",
    "    \"dimensions\": DIMENSIONS,\n",
    "    \"min_value\": min_value,\n",
    "    \"max_value\": max_value,\n",
    "    \"current_function\": ackley_function,\n",
    "}"
   ]
  },
  {
   "attachments": {},
   "cell_type": "markdown",
   "metadata": {},
   "source": [
    "- ##### Algoritmo Genético"
   ]
  },
  {
   "cell_type": "code",
   "execution_count": 6,
   "metadata": {},
   "outputs": [
    {
     "name": "stdout",
     "output_type": "stream",
     "text": [
      "Global Minimum Value: 0.019873364434574103\n",
      "Global Minimum Value: 0.020924120549413505\n",
      "Global Minimum Value: 0.02540722098043391\n",
      "Global Minimum Value: 0.018264963241439336\n",
      "Global Minimum Value: 0.020858994390103636\n"
     ]
    }
   ],
   "source": [
    "for i in range(NUMBER_OF_EXECUTIONS):\n",
    "   global_min_value = genetic_algorithm(**params)\n",
    "   ackley_min_values_genetic.append(global_min_value)"
   ]
  },
  {
   "attachments": {},
   "cell_type": "markdown",
   "metadata": {},
   "source": [
    "- ##### Algoritmo Evolutivo"
   ]
  },
  {
   "cell_type": "code",
   "execution_count": 7,
   "metadata": {},
   "outputs": [
    {
     "name": "stdout",
     "output_type": "stream",
     "text": [
      "Global Minimum Value: 0.004030508963037693\n",
      "Global Minimum Value: 0.004709211299552596\n",
      "Global Minimum Value: 0.002786812855568588\n",
      "Global Minimum Value: 0.002671891140679339\n",
      "Global Minimum Value: 0.0032476206997249513\n"
     ]
    }
   ],
   "source": [
    "params.pop(\"crossover_prob\")\n",
    "params[\"mutation_rate\"] = 0.8\n",
    "\n",
    "for i in range(NUMBER_OF_EXECUTIONS):\n",
    "    global_min_value = evolution_strategy(**params)\n",
    "    ackley_min_values_evolutionary.append(global_min_value)"
   ]
  },
  {
   "attachments": {},
   "cell_type": "markdown",
   "metadata": {},
   "source": [
    "Results Comparison"
   ]
  },
  {
   "cell_type": "code",
   "execution_count": 26,
   "metadata": {},
   "outputs": [
    {
     "name": "stdout",
     "output_type": "stream",
     "text": [
      "***** ACKLEY FUNCTION COMPARISON *****\n",
      "Global min value (Evolutionary):  0.0027536338175768726\n",
      "Global min value mean (Evolutionary):  0.0031567309932829524\n",
      "\n",
      "\n",
      "Global min value (Genetic):  0.012180143492845463\n",
      "Global min value mean (Genetic):  0.014797629816952184\n"
     ]
    }
   ],
   "source": [
    "print(\"***** ACKLEY FUNCTION COMPARISON *****\")\n",
    "print('Global min value (Evolutionary): ', min(ackley_min_values_evolutionary))\n",
    "print('Global min value mean (Evolutionary): ', numpy.mean(ackley_min_values_evolutionary))\n",
    "print('\\n')\n",
    "print('Global min value (Genetic): ', min(ackley_min_values_genetic))\n",
    "print('Global min value mean (Genetic): ', numpy.mean(ackley_min_values_genetic))"
   ]
  },
  {
   "attachments": {},
   "cell_type": "markdown",
   "metadata": {},
   "source": [
    "##### Rastrigin function"
   ]
  },
  {
   "cell_type": "code",
   "execution_count": 12,
   "metadata": {},
   "outputs": [],
   "source": [
    "min_value, max_value = -5.12, 5.12\n",
    "rastrigin_min_values_genetic = []\n",
    "rastrigin_min_values_evolutionary = []\n",
    "params = {\n",
    "    \"pop_size\": POPULATION_SIZE,\n",
    "    \"num_generations\": NUM_GENERATIONS,\n",
    "    \"mutation_rate\": MUTATION_RATE,\n",
    "    \"crossover_prob\": CROSSOVER_PROB,\n",
    "    \"elitism_size\": ELITISM_SIZE,\n",
    "    \"num_childs\": NUM_CHILDS,\n",
    "    \"dimensions\": DIMENSIONS,\n",
    "    \"min_value\": min_value,\n",
    "    \"max_value\": max_value,\n",
    "    \"current_function\": rastrigin_function,\n",
    "}"
   ]
  },
  {
   "attachments": {},
   "cell_type": "markdown",
   "metadata": {},
   "source": [
    "- ##### Algoritmo Genético"
   ]
  },
  {
   "cell_type": "code",
   "execution_count": 13,
   "metadata": {},
   "outputs": [
    {
     "name": "stdout",
     "output_type": "stream",
     "text": [
      "Global Minimum Value: 0.0028634166699816888\n",
      "Global Minimum Value: 0.002881936997368939\n",
      "Global Minimum Value: 0.004738475263479813\n",
      "Global Minimum Value: 0.0016862779163488995\n",
      "Global Minimum Value: 0.002071243344346385\n"
     ]
    }
   ],
   "source": [
    "for i in range(NUMBER_OF_EXECUTIONS):\n",
    "   global_min_value = genetic_algorithm(**params)\n",
    "   rastrigin_min_values_genetic.append(global_min_value)"
   ]
  },
  {
   "attachments": {},
   "cell_type": "markdown",
   "metadata": {},
   "source": [
    "- ##### Algoritmo Evolutivo"
   ]
  },
  {
   "cell_type": "code",
   "execution_count": 14,
   "metadata": {},
   "outputs": [
    {
     "name": "stdout",
     "output_type": "stream",
     "text": [
      "Global Minimum Value: 0.00020451397767828894\n",
      "Global Minimum Value: 0.00018038577923107368\n",
      "Global Minimum Value: 9.933783485394088e-05\n",
      "Global Minimum Value: 0.00016855401167958917\n",
      "Global Minimum Value: 0.00012355600330238303\n"
     ]
    }
   ],
   "source": [
    "params.pop(\"crossover_prob\")\n",
    "params[\"mutation_rate\"] = 0.8\n",
    "\n",
    "for i in range(NUMBER_OF_EXECUTIONS):\n",
    "   global_min_value = evolution_strategy(**params)\n",
    "   rastrigin_min_values_evolutionary.append(global_min_value)"
   ]
  },
  {
   "attachments": {},
   "cell_type": "markdown",
   "metadata": {},
   "source": [
    "Results Comparison"
   ]
  },
  {
   "cell_type": "code",
   "execution_count": 25,
   "metadata": {},
   "outputs": [
    {
     "name": "stdout",
     "output_type": "stream",
     "text": [
      "***** RASTRIGIN FUNCTION COMPARISON *****\n",
      "Global min value (Evolutionary):  7.77101998892249e-05\n",
      "Global min value mean(Evolutionary):  0.00011134070045955013\n",
      "\n",
      "\n",
      "Global min value (Genetic):  0.0016527762732607698\n",
      "Global min value mean (Genetic):  0.0024176499944474016\n"
     ]
    }
   ],
   "source": [
    "print(\"***** RASTRIGIN FUNCTION COMPARISON *****\")\n",
    "print('Global min value (Evolutionary): ', min(rastrigin_min_values_evolutionary))\n",
    "print('Global min value mean(Evolutionary): ', numpy.mean(rastrigin_min_values_evolutionary))\n",
    "print('\\n')\n",
    "print('Global min value (Genetic): ', min(rastrigin_min_values_genetic))\n",
    "print('Global min value mean (Genetic): ', numpy.mean(rastrigin_min_values_genetic))"
   ]
  },
  {
   "attachments": {},
   "cell_type": "markdown",
   "metadata": {},
   "source": [
    "##### Schwefel function"
   ]
  },
  {
   "cell_type": "code",
   "execution_count": 19,
   "metadata": {},
   "outputs": [],
   "source": [
    "min_value, max_value = -500, 500\n",
    "schwefel_min_values_genetic = []\n",
    "schwefel_min_values_evolutionary = []\n",
    "params = {\n",
    "    \"pop_size\": POPULATION_SIZE,\n",
    "    \"num_generations\": NUM_GENERATIONS,\n",
    "    \"mutation_rate\": MUTATION_RATE,\n",
    "    \"crossover_prob\": CROSSOVER_PROB,\n",
    "    \"elitism_size\": ELITISM_SIZE,\n",
    "    \"num_childs\": NUM_CHILDS,\n",
    "    \"dimensions\": DIMENSIONS,\n",
    "    \"min_value\": min_value,\n",
    "    \"max_value\": max_value,\n",
    "    \"current_function\": schwefel_function,\n",
    "}"
   ]
  },
  {
   "attachments": {},
   "cell_type": "markdown",
   "metadata": {},
   "source": [
    "- ##### Algoritmo Genético"
   ]
  },
  {
   "cell_type": "code",
   "execution_count": 20,
   "metadata": {},
   "outputs": [
    {
     "name": "stdout",
     "output_type": "stream",
     "text": [
      "Global Minimum Value: 0.010652574281266425\n",
      "Global Minimum Value: 0.018996312353920075\n",
      "Global Minimum Value: 0.015843182007301948\n",
      "Global Minimum Value: 0.015964016851285123\n",
      "Global Minimum Value: 0.017813104817832937\n"
     ]
    }
   ],
   "source": [
    "for i in range(NUMBER_OF_EXECUTIONS):\n",
    "   global_min_value = genetic_algorithm(**params)\n",
    "   schwefel_min_values_genetic.append(global_min_value)"
   ]
  },
  {
   "attachments": {},
   "cell_type": "markdown",
   "metadata": {},
   "source": [
    "- ##### Algoritmo Evolutivo"
   ]
  },
  {
   "cell_type": "code",
   "execution_count": 21,
   "metadata": {},
   "outputs": [
    {
     "name": "stdout",
     "output_type": "stream",
     "text": [
      "Global Minimum Value: 0.001177101323264651\n",
      "Global Minimum Value: 0.0012114908549847314\n",
      "Global Minimum Value: 0.0008460305070912\n",
      "Global Minimum Value: 0.001056922765201307\n",
      "Global Minimum Value: 0.000779078420237056\n"
     ]
    }
   ],
   "source": [
    "params.pop(\"crossover_prob\")\n",
    "params[\"mutation_rate\"] = 0.8\n",
    "\n",
    "\n",
    "for i in range(NUMBER_OF_EXECUTIONS):\n",
    "   global_min_value = evolution_strategy(**params)\n",
    "   schwefel_min_values_evolutionary.append(global_min_value)"
   ]
  },
  {
   "attachments": {},
   "cell_type": "markdown",
   "metadata": {},
   "source": [
    "Results Comparison"
   ]
  },
  {
   "cell_type": "code",
   "execution_count": 27,
   "metadata": {},
   "outputs": [
    {
     "name": "stdout",
     "output_type": "stream",
     "text": [
      "***** SCHWEFEL FUNCTION COMPARISON *****\n",
      "Global min value (Evolutionary):  0.0007747381714580115\n",
      "Global min value mean (Evolutionary):  0.001204562834755052\n",
      "\n",
      "\n",
      "Global min value (Genetic):  0.011798680094216252\n",
      "Global min value mean (Genetic):  0.021040481298041414\n"
     ]
    }
   ],
   "source": [
    "print(\"***** SCHWEFEL FUNCTION COMPARISON *****\")\n",
    "print('Global min value (Evolutionary): ', min(schwefel_min_values_evolutionary))\n",
    "print('Global min value mean (Evolutionary): ', numpy.mean(schwefel_min_values_evolutionary))\n",
    "print('\\n')\n",
    "print('Global min value (Genetic): ', min(schwefel_min_values_genetic))\n",
    "print('Global min value mean (Genetic): ', numpy.mean(schwefel_min_values_genetic))"
   ]
  },
  {
   "attachments": {},
   "cell_type": "markdown",
   "metadata": {},
   "source": [
    "##### Rosenbrock function"
   ]
  },
  {
   "cell_type": "code",
   "execution_count": 23,
   "metadata": {},
   "outputs": [],
   "source": [
    "min_value, max_value = -5, 10\n",
    "rosenbrock_min_values_genetic = []\n",
    "rosenbrock_min_values_evolutionary = []\n",
    "params = {\n",
    "    \"pop_size\": POPULATION_SIZE,\n",
    "    \"num_generations\": NUM_GENERATIONS,\n",
    "    \"mutation_rate\": MUTATION_RATE,\n",
    "    \"crossover_prob\": CROSSOVER_PROB,\n",
    "    \"elitism_size\": ELITISM_SIZE,\n",
    "    \"num_childs\": NUM_CHILDS,\n",
    "    \"dimensions\": DIMENSIONS,\n",
    "    \"min_value\": min_value,\n",
    "    \"max_value\": max_value,\n",
    "    \"current_function\": rosenbrock_function,\n",
    "}"
   ]
  },
  {
   "attachments": {},
   "cell_type": "markdown",
   "metadata": {},
   "source": [
    "- ##### Algoritmo Genético"
   ]
  },
  {
   "cell_type": "code",
   "execution_count": 24,
   "metadata": {},
   "outputs": [
    {
     "name": "stdout",
     "output_type": "stream",
     "text": [
      "Global Minimum Value: 79.91457043262196\n",
      "Global Minimum Value: 75.91943415853017\n",
      "Global Minimum Value: 12.602569014770634\n",
      "Global Minimum Value: 74.4926548712668\n",
      "Global Minimum Value: 0.521489410683067\n"
     ]
    }
   ],
   "source": [
    "for i in range(NUMBER_OF_EXECUTIONS):\n",
    "   global_min_value = genetic_algorithm(**params)\n",
    "   rosenbrock_min_values_genetic.append(global_min_value)"
   ]
  },
  {
   "attachments": {},
   "cell_type": "markdown",
   "metadata": {},
   "source": [
    "- ##### Algoritmo Evolutivo"
   ]
  },
  {
   "cell_type": "code",
   "execution_count": 25,
   "metadata": {},
   "outputs": [
    {
     "name": "stdout",
     "output_type": "stream",
     "text": [
      "Global Minimum Value: 1.06290831288419\n",
      "Global Minimum Value: 70.38529171384457\n",
      "Global Minimum Value: 0.08158052561707596\n",
      "Global Minimum Value: 15.819940850306157\n",
      "Global Minimum Value: 81.4280527816203\n"
     ]
    }
   ],
   "source": [
    "params.pop(\"crossover_prob\")\n",
    "params[\"mutation_rate\"] = 0.8\n",
    "\n",
    "\n",
    "for i in range(NUMBER_OF_EXECUTIONS):\n",
    "   global_min_value = evolution_strategy(**params)\n",
    "   rosenbrock_min_values_evolutionary.append(global_min_value)"
   ]
  },
  {
   "attachments": {},
   "cell_type": "markdown",
   "metadata": {},
   "source": [
    "Results Comparison"
   ]
  },
  {
   "cell_type": "code",
   "execution_count": 28,
   "metadata": {},
   "outputs": [
    {
     "name": "stdout",
     "output_type": "stream",
     "text": [
      "***** ROSENBROCK FUNCTION COMPARISON *****\n",
      "Global min value (Evolutionary):  1.2188489148601067\n",
      "Global min value mean (Evolutionary):  39.92971323551044\n",
      "\n",
      "\n",
      "Global min value (Genetic):  10.536511551722839\n",
      "Global min value mean (Genetic):  29.19835762394384\n"
     ]
    }
   ],
   "source": [
    "print(\"***** ROSENBROCK FUNCTION COMPARISON *****\")\n",
    "print('Global min value (Evolutionary): ', min(rosenbrock_min_values_evolutionary))\n",
    "print('Global min value mean (Evolutionary): ', numpy.mean(rosenbrock_min_values_evolutionary))\n",
    "print('\\n')\n",
    "print('Global min value (Genetic): ', min(rosenbrock_min_values_genetic))\n",
    "print('Global min value mean (Genetic): ', numpy.mean(rosenbrock_min_values_genetic))"
   ]
  }
 ],
 "metadata": {
  "kernelspec": {
   "display_name": "Python 3",
   "language": "python",
   "name": "python3"
  },
  "language_info": {
   "codemirror_mode": {
    "name": "ipython",
    "version": 3
   },
   "file_extension": ".py",
   "mimetype": "text/x-python",
   "name": "python",
   "nbconvert_exporter": "python",
   "pygments_lexer": "ipython3",
   "version": "3.10.5"
  },
  "orig_nbformat": 4
 },
 "nbformat": 4,
 "nbformat_minor": 2
}
