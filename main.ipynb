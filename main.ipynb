{
 "cells": [
  {
   "attachments": {},
   "cell_type": "markdown",
   "metadata": {},
   "source": [
    "### Imports"
   ]
  },
  {
   "cell_type": "code",
   "execution_count": 7,
   "metadata": {},
   "outputs": [],
   "source": [
    "from functions import *\n",
    "from GeneticAlgorithm import genetic_algorithm\n",
    "from EvolutionaryAlgorithm import evolution_strategy\n",
    "import numpy"
   ]
  },
  {
   "attachments": {},
   "cell_type": "markdown",
   "metadata": {},
   "source": [
    "### Constants"
   ]
  },
  {
   "cell_type": "code",
   "execution_count": 8,
   "metadata": {},
   "outputs": [],
   "source": [
    "POPULATION_SIZE = 100\n",
    "NUM_GENERATIONS = 150\n",
    "MUTATION_RATE = 0.6\n",
    "CROSSOVER_PROB = 0.9\n",
    "ELITISM_SIZE = 5\n",
    "DIMENSIONS = 30\n",
    "NUMBER_OF_EXECUTIONS = 30"
   ]
  },
  {
   "attachments": {},
   "cell_type": "markdown",
   "metadata": {},
   "source": [
    "### Implementations"
   ]
  },
  {
   "attachments": {},
   "cell_type": "markdown",
   "metadata": {},
   "source": [
    "##### Ackley Function"
   ]
  },
  {
   "cell_type": "code",
   "execution_count": 9,
   "metadata": {},
   "outputs": [],
   "source": [
    "min_value, max_value = -32.7, +32.7\n",
    "ackley_min_values_genetic = []\n",
    "ackley_min_values_evolutionary = []\n",
    "params = {\n",
    "    \"pop_size\": POPULATION_SIZE,\n",
    "    \"num_generations\": NUM_GENERATIONS,\n",
    "    \"mutation_rate\": MUTATION_RATE,\n",
    "    \"crossover_prob\": CROSSOVER_PROB,\n",
    "    \"elitism_size\": ELITISM_SIZE,\n",
    "    \"dimensions\": DIMENSIONS,\n",
    "    \"min_value\": min_value,\n",
    "    \"max_value\": max_value,\n",
    "    \"current_function\": ackley_function,\n",
    "}"
   ]
  },
  {
   "cell_type": "markdown",
   "metadata": {},
   "source": [
    "- ##### Algoritmo Genético"
   ]
  },
  {
   "cell_type": "code",
   "execution_count": 10,
   "metadata": {},
   "outputs": [
    {
     "name": "stdout",
     "output_type": "stream",
     "text": [
      "Global Minimum Value: 19.19981365056513\n",
      "Global Minimum Value: 19.89640211322406\n",
      "Global Minimum Value: 19.907771399895232\n",
      "Global Minimum Value: 19.354116610611726\n",
      "Global Minimum Value: 19.890725257748546\n",
      "Global Minimum Value: 19.595136781290417\n",
      "Global Minimum Value: 19.855683623965742\n",
      "Global Minimum Value: 19.319046147189\n",
      "Global Minimum Value: 19.758296176260934\n",
      "Global Minimum Value: 19.903634408218235\n",
      "Global Minimum Value: 19.4262283588071\n",
      "Global Minimum Value: 19.974798959627456\n",
      "Global Minimum Value: 19.881032459018716\n",
      "Global Minimum Value: 19.737280647370604\n",
      "Global Minimum Value: 19.585307382425587\n",
      "Global Minimum Value: 19.463238658956868\n",
      "Global Minimum Value: 19.65603475104691\n",
      "Global Minimum Value: 19.446057046056747\n",
      "Global Minimum Value: 19.716652271109503\n",
      "Global Minimum Value: 19.823224552869846\n",
      "Global Minimum Value: 19.731461822038618\n",
      "Global Minimum Value: 19.91325520959299\n",
      "Global Minimum Value: 19.58485184763688\n",
      "Global Minimum Value: 19.77868995385597\n",
      "Global Minimum Value: 19.32551294146302\n",
      "Global Minimum Value: 19.79537168121804\n",
      "Global Minimum Value: 19.722310384584066\n",
      "Global Minimum Value: 19.577304485842696\n",
      "Global Minimum Value: 19.58977276653249\n",
      "Global Minimum Value: 19.949578995830514\n"
     ]
    }
   ],
   "source": [
    "for i in range(NUMBER_OF_EXECUTIONS):\n",
    "   global_min_value = genetic_algorithm(**params)\n",
    "   ackley_min_values_genetic.append(global_min_value)"
   ]
  },
  {
   "cell_type": "markdown",
   "metadata": {},
   "source": [
    "- ##### Algoritmo Evolutivo"
   ]
  },
  {
   "cell_type": "code",
   "execution_count": 11,
   "metadata": {},
   "outputs": [
    {
     "name": "stdout",
     "output_type": "stream",
     "text": [
      "Global Minimum Value: 19.970317023882437\n",
      "Global Minimum Value: 19.521497719393455\n",
      "Global Minimum Value: 19.50176270462182\n",
      "Global Minimum Value: 18.511668656225098\n",
      "Global Minimum Value: 19.180442693682767\n",
      "Global Minimum Value: 19.489589382029862\n",
      "Global Minimum Value: 19.62522653231216\n",
      "Global Minimum Value: 19.778370182673477\n",
      "Global Minimum Value: 19.600495110109723\n",
      "Global Minimum Value: 19.36661387421258\n",
      "Global Minimum Value: 19.60512418226444\n",
      "Global Minimum Value: 19.68586388015356\n",
      "Global Minimum Value: 19.331272379970827\n",
      "Global Minimum Value: 19.693106597849045\n",
      "Global Minimum Value: 19.567790406797922\n",
      "Global Minimum Value: 19.718107568218663\n",
      "Global Minimum Value: 19.417821637345774\n",
      "Global Minimum Value: 19.602309411882622\n",
      "Global Minimum Value: 19.118353070923252\n",
      "Global Minimum Value: 19.713552175275836\n",
      "Global Minimum Value: 19.6600768095815\n",
      "Global Minimum Value: 19.655748713955017\n",
      "Global Minimum Value: 19.48138179689941\n",
      "Global Minimum Value: 19.40951732934971\n",
      "Global Minimum Value: 19.62034500989549\n",
      "Global Minimum Value: 19.339087597982203\n",
      "Global Minimum Value: 19.55719532395966\n",
      "Global Minimum Value: 19.01671531817941\n",
      "Global Minimum Value: 19.391676048118367\n",
      "Global Minimum Value: 19.58661044296218\n"
     ]
    }
   ],
   "source": [
    "params.pop(\"crossover_prob\")\n",
    "\n",
    "for i in range(NUMBER_OF_EXECUTIONS):\n",
    "    global_min_value = evolution_strategy(**params)\n",
    "    ackley_min_values_evolutionary.append(global_min_value)"
   ]
  },
  {
   "cell_type": "markdown",
   "metadata": {},
   "source": [
    "Results Comparasion"
   ]
  },
  {
   "cell_type": "code",
   "execution_count": 12,
   "metadata": {},
   "outputs": [
    {
     "name": "stdout",
     "output_type": "stream",
     "text": [
      "***** ACKLEY FUNCTION COMPARASION *****\n",
      "Global min value mean (Evolutionary):  19.49058798602361\n",
      "Global min value mean (Genetic):  19.678619711495124\n"
     ]
    }
   ],
   "source": [
    "print(\"***** ACKLEY FUNCTION COMPARASION *****\")\n",
    "print('Global min value mean (Evolutionary): ', numpy.mean(ackley_min_values_evolutionary))\n",
    "print('Global min value mean (Genetic): ', numpy.mean(ackley_min_values_genetic))"
   ]
  },
  {
   "attachments": {},
   "cell_type": "markdown",
   "metadata": {},
   "source": [
    "##### Rastrigin function"
   ]
  },
  {
   "cell_type": "code",
   "execution_count": 18,
   "metadata": {},
   "outputs": [],
   "source": [
    "min_value, max_value = -5.12, 5.12\n",
    "rastrigin_min_values_genetic = []\n",
    "rastrigin_min_values_evolutionary = []\n",
    "params = {\n",
    "    \"pop_size\": POPULATION_SIZE,\n",
    "    \"num_generations\": NUM_GENERATIONS,\n",
    "    \"mutation_rate\": MUTATION_RATE,\n",
    "    \"crossover_prob\": CROSSOVER_PROB,\n",
    "    \"elitism_size\": ELITISM_SIZE,\n",
    "    \"dimensions\": DIMENSIONS,\n",
    "    \"min_value\": min_value,\n",
    "    \"max_value\": max_value,\n",
    "    \"current_function\": rastrigin_function,\n",
    "}"
   ]
  },
  {
   "cell_type": "markdown",
   "metadata": {},
   "source": [
    "- ##### Algoritmo Genético"
   ]
  },
  {
   "cell_type": "code",
   "execution_count": 19,
   "metadata": {},
   "outputs": [
    {
     "name": "stdout",
     "output_type": "stream",
     "text": [
      "Global Minimum Value: 317.38340471714554\n",
      "Global Minimum Value: 346.9089871155922\n",
      "Global Minimum Value: 310.8539262725544\n",
      "Global Minimum Value: 339.45572682770046\n",
      "Global Minimum Value: 293.33936580740755\n",
      "Global Minimum Value: 327.3566698710503\n",
      "Global Minimum Value: 302.6050702875519\n",
      "Global Minimum Value: 301.1970011191258\n",
      "Global Minimum Value: 321.26400380726216\n",
      "Global Minimum Value: 302.6092547628674\n",
      "Global Minimum Value: 328.77338705974074\n",
      "Global Minimum Value: 278.0718928771566\n",
      "Global Minimum Value: 261.69587664297325\n",
      "Global Minimum Value: 294.07489434321104\n",
      "Global Minimum Value: 349.2882118336551\n",
      "Global Minimum Value: 327.6177208061427\n",
      "Global Minimum Value: 283.4492343062529\n",
      "Global Minimum Value: 316.8853538464251\n",
      "Global Minimum Value: 302.3554657480858\n",
      "Global Minimum Value: 305.5469435944709\n",
      "Global Minimum Value: 312.89132792492876\n",
      "Global Minimum Value: 313.73139914073835\n",
      "Global Minimum Value: 290.0967391699382\n",
      "Global Minimum Value: 325.81349898293234\n",
      "Global Minimum Value: 314.53754116992576\n",
      "Global Minimum Value: 306.48062585111296\n",
      "Global Minimum Value: 298.17223742088487\n",
      "Global Minimum Value: 324.03910679382705\n",
      "Global Minimum Value: 295.4708479586355\n",
      "Global Minimum Value: 327.03644064513605\n"
     ]
    }
   ],
   "source": [
    "for i in range(NUMBER_OF_EXECUTIONS):\n",
    "   global_min_value = genetic_algorithm(**params)\n",
    "   rastrigin_min_values_genetic.append(global_min_value)"
   ]
  },
  {
   "cell_type": "markdown",
   "metadata": {},
   "source": [
    "- ##### Algoritmo Evolutivo"
   ]
  },
  {
   "cell_type": "code",
   "execution_count": 20,
   "metadata": {},
   "outputs": [
    {
     "name": "stdout",
     "output_type": "stream",
     "text": [
      "Global Minimum Value: 318.62266059576444\n",
      "Global Minimum Value: 284.9588638114077\n",
      "Global Minimum Value: 326.8720652320877\n",
      "Global Minimum Value: 299.90713051521954\n",
      "Global Minimum Value: 303.7015337857066\n",
      "Global Minimum Value: 321.72221713689027\n",
      "Global Minimum Value: 329.49618581777787\n",
      "Global Minimum Value: 294.02906912969905\n",
      "Global Minimum Value: 287.57543604845745\n",
      "Global Minimum Value: 331.142070513807\n",
      "Global Minimum Value: 319.3663325040038\n",
      "Global Minimum Value: 322.5961787325328\n",
      "Global Minimum Value: 315.31984446180644\n",
      "Global Minimum Value: 315.538909102177\n",
      "Global Minimum Value: 310.5456396062639\n",
      "Global Minimum Value: 333.368609121235\n",
      "Global Minimum Value: 307.13529607802593\n",
      "Global Minimum Value: 286.43223168383247\n",
      "Global Minimum Value: 301.703016114389\n",
      "Global Minimum Value: 299.32161491940485\n",
      "Global Minimum Value: 335.2609734212829\n",
      "Global Minimum Value: 308.62219620818416\n",
      "Global Minimum Value: 326.6105819851132\n",
      "Global Minimum Value: 312.07600140443\n",
      "Global Minimum Value: 318.90165247050135\n",
      "Global Minimum Value: 321.5154382355803\n",
      "Global Minimum Value: 337.23388661007084\n",
      "Global Minimum Value: 335.403658298579\n",
      "Global Minimum Value: 336.91215993086485\n",
      "Global Minimum Value: 332.7168687838945\n"
     ]
    }
   ],
   "source": [
    "params.pop(\"crossover_prob\")\n",
    "\n",
    "for i in range(NUMBER_OF_EXECUTIONS):\n",
    "   global_min_value = evolution_strategy(**params)\n",
    "   rastrigin_min_values_evolutionary.append(global_min_value)"
   ]
  },
  {
   "cell_type": "markdown",
   "metadata": {},
   "source": [
    "Results Comparasion"
   ]
  },
  {
   "cell_type": "code",
   "execution_count": 21,
   "metadata": {},
   "outputs": [
    {
     "name": "stdout",
     "output_type": "stream",
     "text": [
      "***** RASTRIGIN FUNCTION COMPARASION *****\n",
      "Global min value mean (Evolutionary):  315.82027740863305\n",
      "Global min value mean (Genetic):  310.633405223481\n"
     ]
    }
   ],
   "source": [
    "print(\"***** RASTRIGIN FUNCTION COMPARASION *****\")\n",
    "print('Global min value mean (Evolutionary): ', numpy.mean(rastrigin_min_values_evolutionary))\n",
    "print('Global min value mean (Genetic): ', numpy.mean(rastrigin_min_values_genetic))"
   ]
  },
  {
   "attachments": {},
   "cell_type": "markdown",
   "metadata": {},
   "source": [
    "##### Schwefel function"
   ]
  },
  {
   "cell_type": "code",
   "execution_count": null,
   "metadata": {},
   "outputs": [],
   "source": [
    "min_value, max_value = -500, 500\n",
    "\n",
    "genetic_algorithm(POPULATION_SIZE, NUM_GENERATIONS, MUTATION_RATE, DIMENSIONS, min_value, max_value, schwefel_function)"
   ]
  },
  {
   "attachments": {},
   "cell_type": "markdown",
   "metadata": {},
   "source": [
    "##### Rosenbrock function"
   ]
  },
  {
   "cell_type": "code",
   "execution_count": null,
   "metadata": {},
   "outputs": [],
   "source": [
    "min_value, max_value = -5, 10\n",
    "\n",
    "genetic_algorithm(POPULATION_SIZE, NUM_GENERATIONS, MUTATION_RATE, DIMENSIONS, min_value, max_value, rosenbrock_function)"
   ]
  }
 ],
 "metadata": {
  "kernelspec": {
   "display_name": "Python 3",
   "language": "python",
   "name": "python3"
  },
  "language_info": {
   "codemirror_mode": {
    "name": "ipython",
    "version": 3
   },
   "file_extension": ".py",
   "mimetype": "text/x-python",
   "name": "python",
   "nbconvert_exporter": "python",
   "pygments_lexer": "ipython3",
   "version": "3.10.12"
  },
  "orig_nbformat": 4
 },
 "nbformat": 4,
 "nbformat_minor": 2
}
