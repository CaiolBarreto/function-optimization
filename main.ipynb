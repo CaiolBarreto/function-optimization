{
 "cells": [
  {
   "attachments": {},
   "cell_type": "markdown",
   "metadata": {},
   "source": [
    "### Imports"
   ]
  },
  {
   "cell_type": "code",
   "execution_count": 1,
   "metadata": {},
   "outputs": [],
   "source": [
    "from functions import *\n",
    "from GeneticAlgorithm import genetic_algorithm"
   ]
  },
  {
   "attachments": {},
   "cell_type": "markdown",
   "metadata": {},
   "source": [
    "### Constants"
   ]
  },
  {
   "cell_type": "code",
   "execution_count": 2,
   "metadata": {},
   "outputs": [],
   "source": [
    "POPULATION_SIZE = 50\n",
    "NUM_GENERATIONS = 100\n",
    "MUTATION_RATE = 0.1\n",
    "DIMENSIONS = 30"
   ]
  },
  {
   "attachments": {},
   "cell_type": "markdown",
   "metadata": {},
   "source": [
    "### Implementations"
   ]
  },
  {
   "attachments": {},
   "cell_type": "markdown",
   "metadata": {},
   "source": [
    "##### Ackley Function"
   ]
  },
  {
   "cell_type": "code",
   "execution_count": 3,
   "metadata": {},
   "outputs": [
    {
     "name": "stdout",
     "output_type": "stream",
     "text": [
      "Generation 0: Best Value = 9.091075383912166\n",
      "Generation 1: Best Value = 8.706993642843598\n",
      "Generation 2: Best Value = 8.707695844510436\n",
      "Generation 3: Best Value = 8.822801743159253\n",
      "Generation 4: Best Value = 8.884865268759718\n",
      "Generation 5: Best Value = 8.363654556103292\n",
      "Generation 6: Best Value = 8.905898155426183\n",
      "Generation 7: Best Value = 9.202235563950744\n",
      "Generation 8: Best Value = 8.92967218181353\n",
      "Generation 9: Best Value = 8.931131456099003\n",
      "Generation 10: Best Value = 9.065429512380353\n",
      "Generation 11: Best Value = 8.140091431266217\n",
      "Generation 12: Best Value = 8.992258627301538\n",
      "Generation 13: Best Value = 8.952116629861244\n",
      "Generation 14: Best Value = 9.343850185410979\n",
      "Generation 15: Best Value = 8.860020845932697\n",
      "Generation 16: Best Value = 8.51429853974337\n",
      "Generation 17: Best Value = 8.517556161437632\n",
      "Generation 18: Best Value = 9.029303783974383\n",
      "Generation 19: Best Value = 8.843107301146235\n",
      "Generation 20: Best Value = 8.48030934096806\n",
      "Generation 21: Best Value = 8.797577598690683\n",
      "Generation 22: Best Value = 8.909302913543653\n",
      "Generation 23: Best Value = 8.830669320476307\n",
      "Generation 24: Best Value = 8.613754625494629\n",
      "Generation 25: Best Value = 8.656595453121966\n",
      "Generation 26: Best Value = 8.827098253106186\n",
      "Generation 27: Best Value = 8.578802235606284\n",
      "Generation 28: Best Value = 7.9408772645130306\n",
      "Generation 29: Best Value = 8.884886022575667\n",
      "Generation 30: Best Value = 8.793302879437148\n",
      "Generation 31: Best Value = 8.610687583665346\n",
      "Generation 32: Best Value = 8.493944768887754\n",
      "Generation 33: Best Value = 8.732543966836928\n",
      "Generation 34: Best Value = 8.404080312196552\n",
      "Generation 35: Best Value = 9.218695642139307\n",
      "Generation 36: Best Value = 8.8550240066164\n",
      "Generation 37: Best Value = 8.583962500995295\n",
      "Generation 38: Best Value = 8.611811550325418\n",
      "Generation 39: Best Value = 8.299100874036599\n",
      "Generation 40: Best Value = 8.439230703252292\n",
      "Generation 41: Best Value = 8.336255964565408\n",
      "Generation 42: Best Value = 8.476226997111052\n",
      "Generation 43: Best Value = 8.650021006411613\n",
      "Generation 44: Best Value = 8.670462469225583\n",
      "Generation 45: Best Value = 8.94380776628525\n",
      "Generation 46: Best Value = 8.96674865328175\n",
      "Generation 47: Best Value = 8.884092879691478\n",
      "Generation 48: Best Value = 8.774167319661071\n",
      "Generation 49: Best Value = 8.312128410901307\n",
      "Generation 50: Best Value = 8.977198630204716\n",
      "Generation 51: Best Value = 8.65085582628384\n",
      "Generation 52: Best Value = 8.678596190194806\n",
      "Generation 53: Best Value = 8.35053444833126\n",
      "Generation 54: Best Value = 8.06624549913543\n",
      "Generation 55: Best Value = 9.185469415440666\n",
      "Generation 56: Best Value = 8.837199072575476\n",
      "Generation 57: Best Value = 8.892401819636902\n",
      "Generation 58: Best Value = 9.03918132690077\n",
      "Generation 59: Best Value = 8.854920442848421\n",
      "Generation 60: Best Value = 9.302245143735632\n",
      "Generation 61: Best Value = 9.582716249213632\n",
      "Generation 62: Best Value = 9.470411201045804\n",
      "Generation 63: Best Value = 9.454102982239721\n",
      "Generation 64: Best Value = 8.752290505366826\n",
      "Generation 65: Best Value = 8.783307549419256\n",
      "Generation 66: Best Value = 9.051148689042517\n",
      "Generation 67: Best Value = 8.951657489055398\n",
      "Generation 68: Best Value = 9.49955847537964\n",
      "Generation 69: Best Value = 8.56151697840373\n",
      "Generation 70: Best Value = 8.3917397885619\n",
      "Generation 71: Best Value = 8.386803624364024\n",
      "Generation 72: Best Value = 8.122084529722333\n",
      "Generation 73: Best Value = 8.944583131164139\n",
      "Generation 74: Best Value = 8.757066225593224\n",
      "Generation 75: Best Value = 8.527109345894972\n",
      "Generation 76: Best Value = 8.305418933764502\n",
      "Generation 77: Best Value = 8.492415510921232\n",
      "Generation 78: Best Value = 8.893322486658048\n",
      "Generation 79: Best Value = 8.589894204689429\n",
      "Generation 80: Best Value = 8.6372986640595\n",
      "Generation 81: Best Value = 9.041724088716995\n",
      "Generation 82: Best Value = 8.929133635130148\n",
      "Generation 83: Best Value = 9.070949420485547\n",
      "Generation 84: Best Value = 8.386383521058209\n",
      "Generation 85: Best Value = 8.378981142465081\n",
      "Generation 86: Best Value = 8.713046837760174\n",
      "Generation 87: Best Value = 8.840580498467482\n",
      "Generation 88: Best Value = 8.77895192035286\n",
      "Generation 89: Best Value = 8.913504164056244\n",
      "Generation 90: Best Value = 9.136036824606784\n",
      "Generation 91: Best Value = 9.14943457150001\n",
      "Generation 92: Best Value = 8.409460767225355\n",
      "Generation 93: Best Value = 8.094947291062638\n",
      "Generation 94: Best Value = 8.340069219492264\n",
      "Generation 95: Best Value = 8.276370260012245\n",
      "Generation 96: Best Value = 8.462629779718188\n",
      "Generation 97: Best Value = 8.551219938849664\n",
      "Generation 98: Best Value = 8.984379235157453\n",
      "Generation 99: Best Value = 8.699495703420565\n",
      "\n",
      "Global Minimum Point: [-0.7491030900627047, 2.591514850465969, 3.63522819291922, -2.792657043540575, 1.6873901213198108, 0.6630648864457029, -2.417631025399214, 1.2773720394430423, 2.608394362671528, -0.48235580926195176, -3.473862719829488, -2.654656144985398, -0.04612834981907277, 3.581009517555474, -0.034363137949524614, 3.6382398582874487, 0.4982318287889811, 1.3368503059503016, -1.0192745265322234, -1.0504897630336685, 0.9667292756529813, -1.3067315952256964, 0.9892609135619406, -0.2664504413444666, -2.644835785779902, -0.4488531755381491, -0.7162692189455946, -2.773038781630326, 0.37398775300809906, -0.2265970141373881]\n",
      "Global Minimum Value: 8.38237438354426\n"
     ]
    }
   ],
   "source": [
    "min_value, max_value = -5, 5\n",
    "\n",
    "genetic_algorithm(POPULATION_SIZE, NUM_GENERATIONS, MUTATION_RATE, DIMENSIONS, min_value, max_value, ackley_function)"
   ]
  },
  {
   "attachments": {},
   "cell_type": "markdown",
   "metadata": {},
   "source": [
    "##### Rastrigin function"
   ]
  },
  {
   "cell_type": "code",
   "execution_count": null,
   "metadata": {},
   "outputs": [],
   "source": [
    "min_value, max_value = -5.12, 5.12\n",
    "\n",
    "genetic_algorithm(POPULATION_SIZE, NUM_GENERATIONS, MUTATION_RATE, DIMENSIONS, min_value, max_value, rastrigin_function)"
   ]
  },
  {
   "attachments": {},
   "cell_type": "markdown",
   "metadata": {},
   "source": [
    "##### Schwefel function"
   ]
  },
  {
   "cell_type": "code",
   "execution_count": null,
   "metadata": {},
   "outputs": [],
   "source": [
    "min_value, max_value = -500, 500\n",
    "\n",
    "genetic_algorithm(POPULATION_SIZE, NUM_GENERATIONS, MUTATION_RATE, DIMENSIONS, min_value, max_value, schwefel_function)"
   ]
  },
  {
   "attachments": {},
   "cell_type": "markdown",
   "metadata": {},
   "source": [
    "##### Rosenbrock function"
   ]
  },
  {
   "cell_type": "code",
   "execution_count": null,
   "metadata": {},
   "outputs": [],
   "source": [
    "min_value, max_value = -5, 10\n",
    "\n",
    "genetic_algorithm(POPULATION_SIZE, NUM_GENERATIONS, MUTATION_RATE, DIMENSIONS, min_value, max_value, rosenbrock_function)"
   ]
  }
 ],
 "metadata": {
  "kernelspec": {
   "display_name": "Python 3",
   "language": "python",
   "name": "python3"
  },
  "language_info": {
   "codemirror_mode": {
    "name": "ipython",
    "version": 3
   },
   "file_extension": ".py",
   "mimetype": "text/x-python",
   "name": "python",
   "nbconvert_exporter": "python",
   "pygments_lexer": "ipython3",
   "version": "3.8.10"
  },
  "orig_nbformat": 4
 },
 "nbformat": 4,
 "nbformat_minor": 2
}
