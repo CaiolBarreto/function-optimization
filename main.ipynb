{
 "cells": [
  {
   "attachments": {},
   "cell_type": "markdown",
   "metadata": {},
   "source": [
    "### Imports"
   ]
  },
  {
   "cell_type": "code",
   "execution_count": 2,
   "metadata": {},
   "outputs": [],
   "source": [
    "from functions import *\n",
    "from GeneticAlgorithm import genetic_algorithm\n",
    "from EvolutionaryAlgorithm import evolution_strategy\n",
    "import matplotlib.pyplot as plt\n",
    "import numpy"
   ]
  },
  {
   "attachments": {},
   "cell_type": "markdown",
   "metadata": {},
   "source": [
    "### Constants"
   ]
  },
  {
   "cell_type": "code",
   "execution_count": 66,
   "metadata": {},
   "outputs": [],
   "source": [
    "POPULATION_SIZE = 200\n",
    "NUM_GENERATIONS = 300\n",
    "MUTATION_RATE = 0.2\n",
    "CROSSOVER_PROB = 0.7\n",
    "NUM_CHILDS = 20\n",
    "ELITISM_SIZE = 5\n",
    "DIMENSIONS = 30\n",
    "NUMBER_OF_EXECUTIONS = 5"
   ]
  },
  {
   "attachments": {},
   "cell_type": "markdown",
   "metadata": {},
   "source": [
    "### Implementations"
   ]
  },
  {
   "attachments": {},
   "cell_type": "markdown",
   "metadata": {},
   "source": [
    "#### Ackley Function"
   ]
  },
  {
   "cell_type": "code",
   "execution_count": 67,
   "metadata": {},
   "outputs": [],
   "source": [
    "min_value, max_value = -32.768, 32.768\n",
    "ackley_min_values_genetic = []\n",
    "ackley_min_values_evolutionary = []\n",
    "params = {\n",
    "    \"pop_size\": POPULATION_SIZE,\n",
    "    \"num_generations\": NUM_GENERATIONS,\n",
    "    \"mutation_rate\": MUTATION_RATE,\n",
    "    \"crossover_prob\": CROSSOVER_PROB,\n",
    "    \"elitism_size\": ELITISM_SIZE,\n",
    "    \"num_childs\": NUM_CHILDS,\n",
    "    \"dimensions\": DIMENSIONS,\n",
    "    \"min_value\": min_value,\n",
    "    \"max_value\": max_value,\n",
    "    \"current_function\": ackley_function,\n",
    "}"
   ]
  },
  {
   "attachments": {},
   "cell_type": "markdown",
   "metadata": {},
   "source": [
    "- ##### Algoritmo Genético"
   ]
  },
  {
   "cell_type": "code",
   "execution_count": 68,
   "metadata": {},
   "outputs": [
    {
     "name": "stdout",
     "output_type": "stream",
     "text": [
      "Global Minimum Value: 0.10191232273385298\n",
      "Global Minimum Value: 0.09963682458735379\n",
      "Global Minimum Value: 0.10586751448704534\n",
      "Global Minimum Value: 0.1024963455523289\n",
      "Global Minimum Value: 0.07907084716609036\n"
     ]
    }
   ],
   "source": [
    "lower_min_global = float('inf')\n",
    "lower_min_fitness_ga = []\n",
    "\n",
    "for i in range(NUMBER_OF_EXECUTIONS):\n",
    "   global_min_value, best_generations_ga = genetic_algorithm(**params)\n",
    "   ackley_min_values_genetic.append(global_min_value)\n",
    "\n",
    "   if global_min_value < lower_min_global:\n",
    "      lower_min_global = global_min_value\n",
    "      lower_min_fitness_ga = best_generations_ga"
   ]
  },
  {
   "attachments": {},
   "cell_type": "markdown",
   "metadata": {},
   "source": [
    "- ##### Algoritmo Evolutivo"
   ]
  },
  {
   "cell_type": "code",
   "execution_count": 69,
   "metadata": {},
   "outputs": [
    {
     "name": "stdout",
     "output_type": "stream",
     "text": [
      "Global Minimum Value: 0.11050238867985884\n",
      "Global Minimum Value: 0.0984194530188458\n",
      "Global Minimum Value: 0.07323800194100061\n",
      "Global Minimum Value: 0.1156440278539681\n",
      "Global Minimum Value: 0.1364393273356801\n"
     ]
    }
   ],
   "source": [
    "params.pop(\"crossover_prob\")\n",
    "\n",
    "lower_min_global = float('inf')\n",
    "lower_min_fitness_ee = []\n",
    "\n",
    "for i in range(NUMBER_OF_EXECUTIONS):\n",
    "    global_min_value, best_generations_ee = evolution_strategy(**params)\n",
    "    ackley_min_values_evolutionary.append(global_min_value)\n",
    "\n",
    "    if global_min_value < lower_min_global:\n",
    "      lower_min_global = global_min_value\n",
    "      lower_min_fitness_ee = best_generations_ee"
   ]
  },
  {
   "cell_type": "markdown",
   "metadata": {},
   "source": [
    "- ##### Graphs"
   ]
  },
  {
   "cell_type": "code",
   "execution_count": 70,
   "metadata": {},
   "outputs": [
    {
     "data": {
      "image/png": "[encoded data removed]",
      "text/plain": [
       "<Figure size 640x480 with 1 Axes>"
      ]
     },
     "metadata": {},
     "output_type": "display_data"
    }
   ],
   "source": [
    "axis_value = [num for num in range(1, NUM_GENERATIONS + 1)]\n",
    "\n",
    "plt.plot(axis_value, lower_min_fitness_ga, label=\"GA\")\n",
    "plt.plot(axis_value, lower_min_fitness_ee, label=\"EE\")\n",
    "\n",
    "plt.xlabel('Gerações')\n",
    "plt.ylabel('Mínimo da função')\n",
    "plt.legend() \n",
    "\n",
    "plt.show()"
   ]
  },
  {
   "attachments": {},
   "cell_type": "markdown",
   "metadata": {},
   "source": [
    "Results Comparison"
   ]
  },
  {
   "cell_type": "code",
   "execution_count": 71,
   "metadata": {},
   "outputs": [
    {
     "name": "stdout",
     "output_type": "stream",
     "text": [
      "***** ACKLEY FUNCTION COMPARISON *****\n",
      "Global min value (Evolutionary):  0.07323800194100061\n",
      "Global min value mean (Evolutionary):  0.1068486397658707\n",
      "\n",
      "\n",
      "Global min value (Genetic):  0.07907084716609036\n",
      "Global min value mean (Genetic):  0.09779677090533427\n"
     ]
    }
   ],
   "source": [
    "print(\"***** ACKLEY FUNCTION COMPARISON *****\")\n",
    "print('Global min value (Evolutionary): ', min(ackley_min_values_evolutionary))\n",
    "print('Global min value mean (Evolutionary): ', numpy.mean(ackley_min_values_evolutionary))\n",
    "print('\\n')\n",
    "print('Global min value (Genetic): ', min(ackley_min_values_genetic))\n",
    "print('Global min value mean (Genetic): ', numpy.mean(ackley_min_values_genetic))"
   ]
  },
  {
   "attachments": {},
   "cell_type": "markdown",
   "metadata": {},
   "source": [
    "#### Rastrigin function"
   ]
  },
  {
   "cell_type": "code",
   "execution_count": 72,
   "metadata": {},
   "outputs": [],
   "source": [
    "min_value, max_value = -5.12, 5.12\n",
    "rastrigin_min_values_genetic = []\n",
    "rastrigin_min_values_evolutionary = []\n",
    "params = {\n",
    "    \"pop_size\": POPULATION_SIZE,\n",
    "    \"num_generations\": NUM_GENERATIONS,\n",
    "    \"mutation_rate\": MUTATION_RATE,\n",
    "    \"crossover_prob\": CROSSOVER_PROB,\n",
    "    \"elitism_size\": ELITISM_SIZE,\n",
    "    \"num_childs\": NUM_CHILDS,\n",
    "    \"dimensions\": DIMENSIONS,\n",
    "    \"min_value\": min_value,\n",
    "    \"max_value\": max_value,\n",
    "    \"current_function\": rastrigin_function,\n",
    "}"
   ]
  },
  {
   "attachments": {},
   "cell_type": "markdown",
   "metadata": {},
   "source": [
    "- ##### Algoritmo Genético"
   ]
  },
  {
   "cell_type": "code",
   "execution_count": 73,
   "metadata": {},
   "outputs": [
    {
     "name": "stdout",
     "output_type": "stream",
     "text": [
      "Global Minimum Value: 0.056647805136094576\n",
      "Global Minimum Value: 0.053541417009853376\n",
      "Global Minimum Value: 0.04315608421973138\n",
      "Global Minimum Value: 0.05945365875533071\n",
      "Global Minimum Value: 0.04461457206474506\n"
     ]
    }
   ],
   "source": [
    "lower_min_global = float('inf')\n",
    "lower_min_fitness_ga = []\n",
    "\n",
    "for i in range(NUMBER_OF_EXECUTIONS):\n",
    "   global_min_value, best_generations_ga = genetic_algorithm(**params)\n",
    "   rastrigin_min_values_genetic.append(global_min_value)\n",
    "\n",
    "   if global_min_value < lower_min_global:\n",
    "      lower_min_global = global_min_value\n",
    "      lower_min_fitness_ga = best_generations_ga"
   ]
  },
  {
   "attachments": {},
   "cell_type": "markdown",
   "metadata": {},
   "source": [
    "- ##### Algoritmo Evolutivo"
   ]
  },
  {
   "cell_type": "code",
   "execution_count": 74,
   "metadata": {},
   "outputs": [
    {
     "name": "stdout",
     "output_type": "stream",
     "text": [
      "Global Minimum Value: 0.07242132212007846\n",
      "Global Minimum Value: 0.04627833483488075\n",
      "Global Minimum Value: 0.06753998931259275\n",
      "Global Minimum Value: 0.0784055141149338\n",
      "Global Minimum Value: 0.0621136911549911\n"
     ]
    }
   ],
   "source": [
    "params.pop(\"crossover_prob\")\n",
    "\n",
    "lower_min_global = float('inf')\n",
    "lower_min_fitness_ee = []\n",
    "\n",
    "for i in range(NUMBER_OF_EXECUTIONS):\n",
    "   global_min_value, best_generations_ee = evolution_strategy(**params)\n",
    "   rastrigin_min_values_evolutionary.append(global_min_value)\n",
    "\n",
    "   if global_min_value < lower_min_global:\n",
    "      lower_min_global = global_min_value\n",
    "      lower_min_fitness_ee = best_generations_ee"
   ]
  },
  {
   "cell_type": "markdown",
   "metadata": {},
   "source": [
    "- ##### Graphs"
   ]
  },
  {
   "cell_type": "code",
   "execution_count": 75,
   "metadata": {},
   "outputs": [
    {
     "data": {
      "image/png": "[encoded data removed]",
      "text/plain": [
       "<Figure size 640x480 with 1 Axes>"
      ]
     },
     "metadata": {},
     "output_type": "display_data"
    }
   ],
   "source": [
    "axis_value = [num for num in range(1, NUM_GENERATIONS + 1)]\n",
    "\n",
    "plt.plot(axis_value, lower_min_fitness_ga, label=\"GA\")\n",
    "plt.plot(axis_value, lower_min_fitness_ee, label=\"EE\")\n",
    "\n",
    "plt.xlabel('Gerações')\n",
    "plt.ylabel('Mínimo da função')\n",
    "plt.legend() \n",
    "\n",
    "plt.show()"
   ]
  },
  {
   "attachments": {},
   "cell_type": "markdown",
   "metadata": {},
   "source": [
    "Results Comparison"
   ]
  },
  {
   "cell_type": "code",
   "execution_count": 76,
   "metadata": {},
   "outputs": [
    {
     "name": "stdout",
     "output_type": "stream",
     "text": [
      "***** RASTRIGIN FUNCTION COMPARISON *****\n",
      "Global min value (Evolutionary):  0.04627833483488075\n",
      "Global min value mean(Evolutionary):  0.06535177030749537\n",
      "\n",
      "\n",
      "Global min value (Genetic):  0.04315608421973138\n",
      "Global min value mean (Genetic):  0.05148270743715102\n"
     ]
    }
   ],
   "source": [
    "print(\"***** RASTRIGIN FUNCTION COMPARISON *****\")\n",
    "print('Global min value (Evolutionary): ', min(rastrigin_min_values_evolutionary))\n",
    "print('Global min value mean(Evolutionary): ', numpy.mean(rastrigin_min_values_evolutionary))\n",
    "print('\\n')\n",
    "print('Global min value (Genetic): ', min(rastrigin_min_values_genetic))\n",
    "print('Global min value mean (Genetic): ', numpy.mean(rastrigin_min_values_genetic))"
   ]
  },
  {
   "attachments": {},
   "cell_type": "markdown",
   "metadata": {},
   "source": [
    "#### Schwefel function"
   ]
  },
  {
   "cell_type": "code",
   "execution_count": 77,
   "metadata": {},
   "outputs": [],
   "source": [
    "min_value, max_value = -500, 500\n",
    "schwefel_min_values_genetic = []\n",
    "schwefel_min_values_evolutionary = []\n",
    "params = {\n",
    "    \"pop_size\": POPULATION_SIZE,\n",
    "    \"num_generations\": NUM_GENERATIONS,\n",
    "    \"mutation_rate\": MUTATION_RATE,\n",
    "    \"crossover_prob\": CROSSOVER_PROB,\n",
    "    \"elitism_size\": ELITISM_SIZE,\n",
    "    \"num_childs\": NUM_CHILDS,\n",
    "    \"dimensions\": DIMENSIONS,\n",
    "    \"min_value\": min_value,\n",
    "    \"max_value\": max_value,\n",
    "    \"current_function\": schwefel_function,\n",
    "}"
   ]
  },
  {
   "attachments": {},
   "cell_type": "markdown",
   "metadata": {},
   "source": [
    "- ##### Algoritmo Genético"
   ]
  },
  {
   "cell_type": "code",
   "execution_count": 78,
   "metadata": {},
   "outputs": [
    {
     "name": "stdout",
     "output_type": "stream",
     "text": [
      "Global Minimum Value: 0.2987235420387151\n",
      "Global Minimum Value: 0.22464522680274968\n",
      "Global Minimum Value: 0.1934475446396391\n",
      "Global Minimum Value: 0.3323669249366503\n",
      "Global Minimum Value: 0.26507969818521815\n"
     ]
    }
   ],
   "source": [
    "lower_min_global = float('inf')\n",
    "lower_min_fitness_ga = []\n",
    "\n",
    "for i in range(NUMBER_OF_EXECUTIONS):\n",
    "   global_min_value, best_generations_ga = genetic_algorithm(**params)\n",
    "   schwefel_min_values_genetic.append(global_min_value)\n",
    "\n",
    "   if global_min_value < lower_min_global:\n",
    "      lower_min_global = global_min_value\n",
    "      lower_min_fitness_ga = best_generations_ga"
   ]
  },
  {
   "attachments": {},
   "cell_type": "markdown",
   "metadata": {},
   "source": [
    "- ##### Algoritmo Evolutivo"
   ]
  },
  {
   "cell_type": "code",
   "execution_count": 79,
   "metadata": {},
   "outputs": [
    {
     "name": "stdout",
     "output_type": "stream",
     "text": [
      "Global Minimum Value: 0.36192270623723743\n",
      "Global Minimum Value: 0.5557349210521352\n",
      "Global Minimum Value: 0.5822505245687353\n",
      "Global Minimum Value: 0.2764570919680409\n",
      "Global Minimum Value: 0.5293980407368508\n"
     ]
    }
   ],
   "source": [
    "params.pop(\"crossover_prob\")\n",
    "\n",
    "lower_min_global = float('inf')\n",
    "lower_min_fitness_ee = []\n",
    "\n",
    "for i in range(NUMBER_OF_EXECUTIONS):\n",
    "   global_min_value, best_generations_ee = evolution_strategy(**params)\n",
    "   schwefel_min_values_evolutionary.append(global_min_value)\n",
    "\n",
    "   if global_min_value < lower_min_global:\n",
    "      lower_min_global = global_min_value\n",
    "      lower_min_fitness_ee = best_generations_ee"
   ]
  },
  {
   "attachments": {},
   "cell_type": "markdown",
   "metadata": {},
   "source": [
    "- ##### Graphs"
   ]
  },
  {
   "cell_type": "code",
   "execution_count": 80,
   "metadata": {},
   "outputs": [
    {
     "data": {
      "image/png": "[encoded data removed]",
      "text/plain": [
       "<Figure size 640x480 with 1 Axes>"
      ]
     },
     "metadata": {},
     "output_type": "display_data"
    }
   ],
   "source": [
    "axis_value = [num for num in range(1, NUM_GENERATIONS + 1)]\n",
    "\n",
    "plt.plot(axis_value, lower_min_fitness_ga, label=\"GA\")\n",
    "plt.plot(axis_value, lower_min_fitness_ee, label=\"EE\")\n",
    "\n",
    "plt.xlabel('Gerações')\n",
    "plt.ylabel('Mínimo da função')\n",
    "plt.legend() \n",
    "\n",
    "plt.show()"
   ]
  },
  {
   "attachments": {},
   "cell_type": "markdown",
   "metadata": {},
   "source": [
    "Results Comparison"
   ]
  },
  {
   "cell_type": "code",
   "execution_count": 81,
   "metadata": {},
   "outputs": [
    {
     "name": "stdout",
     "output_type": "stream",
     "text": [
      "***** SCHWEFEL FUNCTION COMPARISON *****\n",
      "Global min value (Evolutionary):  0.2764570919680409\n",
      "Global min value mean (Evolutionary):  0.46115265691259993\n",
      "\n",
      "\n",
      "Global min value (Genetic):  0.1934475446396391\n",
      "Global min value mean (Genetic):  0.26285258732059447\n"
     ]
    }
   ],
   "source": [
    "print(\"***** SCHWEFEL FUNCTION COMPARISON *****\")\n",
    "print('Global min value (Evolutionary): ', min(schwefel_min_values_evolutionary))\n",
    "print('Global min value mean (Evolutionary): ', numpy.mean(schwefel_min_values_evolutionary))\n",
    "print('\\n')\n",
    "print('Global min value (Genetic): ', min(schwefel_min_values_genetic))\n",
    "print('Global min value mean (Genetic): ', numpy.mean(schwefel_min_values_genetic))"
   ]
  },
  {
   "attachments": {},
   "cell_type": "markdown",
   "metadata": {},
   "source": [
    "#### Rosenbrock function"
   ]
  },
  {
   "cell_type": "code",
   "execution_count": 85,
   "metadata": {},
   "outputs": [],
   "source": [
    "min_value, max_value = -5, 10\n",
    "rosenbrock_min_values_genetic = []\n",
    "rosenbrock_min_values_evolutionary = []\n",
    "params = {\n",
    "    \"pop_size\": POPULATION_SIZE,\n",
    "    \"num_generations\": NUM_GENERATIONS,\n",
    "    \"mutation_rate\": MUTATION_RATE,\n",
    "    \"crossover_prob\": CROSSOVER_PROB,\n",
    "    \"elitism_size\": ELITISM_SIZE,\n",
    "    \"num_childs\": NUM_CHILDS,\n",
    "    \"dimensions\": DIMENSIONS,\n",
    "    \"min_value\": min_value,\n",
    "    \"max_value\": max_value,\n",
    "    \"current_function\": rosenbrock_function,\n",
    "}\n"
   ]
  },
  {
   "attachments": {},
   "cell_type": "markdown",
   "metadata": {},
   "source": [
    "- ##### Algoritmo Genético"
   ]
  },
  {
   "cell_type": "code",
   "execution_count": 86,
   "metadata": {},
   "outputs": [
    {
     "name": "stdout",
     "output_type": "stream",
     "text": [
      "Global Minimum Value: 79.67385075354734\n",
      "Global Minimum Value: 6.977637932432014\n",
      "Global Minimum Value: 21.74097188154617\n",
      "Global Minimum Value: 75.69395281800331\n",
      "Global Minimum Value: 14.218057594702735\n"
     ]
    }
   ],
   "source": [
    "lower_min_global = float('inf')\n",
    "lower_min_fitness_ga = []\n",
    "\n",
    "\n",
    "for i in range(NUMBER_OF_EXECUTIONS):\n",
    "   global_min_value, best_generations_ga = genetic_algorithm(**params)\n",
    "   rosenbrock_min_values_genetic.append(global_min_value)\n",
    "\n",
    "   if global_min_value < lower_min_global:\n",
    "      lower_min_global = global_min_value\n",
    "      lower_min_fitness_ga = best_generations_ga"
   ]
  },
  {
   "attachments": {},
   "cell_type": "markdown",
   "metadata": {},
   "source": [
    "- ##### Algoritmo Evolutivo"
   ]
  },
  {
   "cell_type": "code",
   "execution_count": 87,
   "metadata": {},
   "outputs": [
    {
     "name": "stdout",
     "output_type": "stream",
     "text": [
      "Global Minimum Value: 90.93543290408472\n",
      "Global Minimum Value: 41.97027885298833\n",
      "Global Minimum Value: 83.86548023300624\n",
      "Global Minimum Value: 90.5730216812882\n",
      "Global Minimum Value: 30.22277257270455\n"
     ]
    }
   ],
   "source": [
    "params.pop(\"crossover_prob\")\n",
    "\n",
    "lower_min_global = float('inf')\n",
    "lower_min_fitness_ee = []\n",
    "\n",
    "for i in range(NUMBER_OF_EXECUTIONS):\n",
    "   global_min_value, best_generations_ee = evolution_strategy(**params)\n",
    "   rosenbrock_min_values_evolutionary.append(global_min_value)\n",
    "\n",
    "   if global_min_value < lower_min_global:\n",
    "      lower_min_global = global_min_value\n",
    "      lower_min_fitness_ee = best_generations_ee"
   ]
  },
  {
   "attachments": {},
   "cell_type": "markdown",
   "metadata": {},
   "source": [
    "- ##### Graphs"
   ]
  },
  {
   "cell_type": "code",
   "execution_count": 88,
   "metadata": {},
   "outputs": [
    {
     "data": {
      "image/png": "[encoded data removed]",
      "text/plain": [
       "<Figure size 640x480 with 1 Axes>"
      ]
     },
     "metadata": {},
     "output_type": "display_data"
    }
   ],
   "source": [
    "axis_value = [num for num in range(1, NUM_GENERATIONS + 1)]\n",
    "\n",
    "plt.plot(axis_value, lower_min_fitness_ga, label=\"GA\")\n",
    "plt.plot(axis_value, lower_min_fitness_ee, label=\"EE\")\n",
    "\n",
    "plt.xlabel('Gerações')\n",
    "plt.ylabel('Mínimo da função')\n",
    "plt.legend() \n",
    "\n",
    "plt.show()"
   ]
  },
  {
   "attachments": {},
   "cell_type": "markdown",
   "metadata": {},
   "source": [
    "Results Comparison"
   ]
  },
  {
   "cell_type": "code",
   "execution_count": 89,
   "metadata": {},
   "outputs": [
    {
     "name": "stdout",
     "output_type": "stream",
     "text": [
      "***** ROSENBROCK FUNCTION COMPARISON *****\n",
      "Global min value (Evolutionary):  30.22277257270455\n",
      "Global min value mean (Evolutionary):  67.51339724881441\n",
      "\n",
      "\n",
      "Global min value (Genetic):  6.977637932432014\n",
      "Global min value mean (Genetic):  39.660894196046314\n"
     ]
    }
   ],
   "source": [
    "print(\"***** ROSENBROCK FUNCTION COMPARISON *****\")\n",
    "print('Global min value (Evolutionary): ', min(rosenbrock_min_values_evolutionary))\n",
    "print('Global min value mean (Evolutionary): ', numpy.mean(rosenbrock_min_values_evolutionary))\n",
    "print('\\n')\n",
    "print('Global min value (Genetic): ', min(rosenbrock_min_values_genetic))\n",
    "print('Global min value mean (Genetic): ', numpy.mean(rosenbrock_min_values_genetic))"
   ]
  }
 ],
 "metadata": {
  "kernelspec": {
   "display_name": "Python 3",
   "language": "python",
   "name": "python3"
  },
  "language_info": {
   "codemirror_mode": {
    "name": "ipython",
    "version": 3
   },
   "file_extension": ".py",
   "mimetype": "text/x-python",
   "name": "python",
   "nbconvert_exporter": "python",
   "pygments_lexer": "ipython3",
   "version": "3.10.12"
  },
  "orig_nbformat": 4
 },
 "nbformat": 4,
 "nbformat_minor": 2
}
