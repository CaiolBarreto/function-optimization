{
 "cells": [
  {
   "attachments": {},
   "cell_type": "markdown",
   "metadata": {},
   "source": [
    "### Imports"
   ]
  },
  {
   "cell_type": "code",
   "execution_count": 1,
   "metadata": {},
   "outputs": [],
   "source": [
    "from functions import *\n",
    "from GeneticAlgorithm import genetic_algorithm\n",
    "from EvolutionaryAlgorithm import evolution_strategy\n",
    "import numpy"
   ]
  },
  {
   "attachments": {},
   "cell_type": "markdown",
   "metadata": {},
   "source": [
    "### Constants"
   ]
  },
  {
   "cell_type": "code",
   "execution_count": 2,
   "metadata": {},
   "outputs": [],
   "source": [
    "POPULATION_SIZE = 200\n",
    "NUM_GENERATIONS = 150\n",
    "MUTATION_RATE = 0.2\n",
    "CROSSOVER_PROB = 0.7\n",
    "NUM_CHILDS = 30\n",
    "ELITISM_SIZE = 5\n",
    "DIMENSIONS = 30\n",
    "NUMBER_OF_EXECUTIONS = 10"
   ]
  },
  {
   "attachments": {},
   "cell_type": "markdown",
   "metadata": {},
   "source": [
    "### Implementations"
   ]
  },
  {
   "attachments": {},
   "cell_type": "markdown",
   "metadata": {},
   "source": [
    "##### Ackley Function"
   ]
  },
  {
   "cell_type": "code",
   "execution_count": 3,
   "metadata": {},
   "outputs": [],
   "source": [
    "min_value, max_value = -32.768, 32.768\n",
    "ackley_min_values_genetic = []\n",
    "ackley_min_values_evolutionary = []\n",
    "params = {\n",
    "    \"pop_size\": POPULATION_SIZE,\n",
    "    \"num_generations\": NUM_GENERATIONS,\n",
    "    \"mutation_rate\": MUTATION_RATE,\n",
    "    \"crossover_prob\": CROSSOVER_PROB,\n",
    "    \"elitism_size\": ELITISM_SIZE,\n",
    "    \"num_childs\": NUM_CHILDS,\n",
    "    \"dimensions\": DIMENSIONS,\n",
    "    \"min_value\": min_value,\n",
    "    \"max_value\": max_value,\n",
    "    \"current_function\": ackley_function,\n",
    "}"
   ]
  },
  {
   "cell_type": "markdown",
   "metadata": {},
   "source": [
    "- ##### Algoritmo Genético"
   ]
  },
  {
   "cell_type": "code",
   "execution_count": null,
   "metadata": {},
   "outputs": [],
   "source": [
    "for i in range(NUMBER_OF_EXECUTIONS):\n",
    "   global_min_value = genetic_algorithm(**params)\n",
    "   ackley_min_values_genetic.append(global_min_value)"
   ]
  },
  {
   "cell_type": "markdown",
   "metadata": {},
   "source": [
    "- ##### Algoritmo Evolutivo"
   ]
  },
  {
   "cell_type": "code",
   "execution_count": null,
   "metadata": {},
   "outputs": [],
   "source": [
    "params.pop(\"crossover_prob\")\n",
    "params[\"mutation_rate\"] = 0.8\n",
    "\n",
    "for i in range(NUMBER_OF_EXECUTIONS):\n",
    "    global_min_value = evolution_strategy(**params)\n",
    "    ackley_min_values_evolutionary.append(global_min_value)"
   ]
  },
  {
   "cell_type": "markdown",
   "metadata": {},
   "source": [
    "Results Comparasion"
   ]
  },
  {
   "cell_type": "code",
   "execution_count": null,
   "metadata": {},
   "outputs": [],
   "source": [
    "print(\"***** ACKLEY FUNCTION COMPARASION *****\")\n",
    "print('Global min value mean (Evolutionary): ', numpy.mean(ackley_min_values_evolutionary))\n",
    "print('Global min value mean (Genetic): ', numpy.mean(ackley_min_values_genetic))"
   ]
  },
  {
   "attachments": {},
   "cell_type": "markdown",
   "metadata": {},
   "source": [
    "##### Rastrigin function"
   ]
  },
  {
   "cell_type": "code",
   "execution_count": 8,
   "metadata": {},
   "outputs": [],
   "source": [
    "min_value, max_value = -5.12, 5.12\n",
    "rastrigin_min_values_genetic = []\n",
    "rastrigin_min_values_evolutionary = []\n",
    "params = {\n",
    "    \"pop_size\": POPULATION_SIZE,\n",
    "    \"num_generations\": NUM_GENERATIONS,\n",
    "    \"mutation_rate\": MUTATION_RATE,\n",
    "    \"crossover_prob\": CROSSOVER_PROB,\n",
    "    \"elitism_size\": ELITISM_SIZE,\n",
    "    \"num_childs\": NUM_CHILDS,\n",
    "    \"dimensions\": DIMENSIONS,\n",
    "    \"min_value\": min_value,\n",
    "    \"max_value\": max_value,\n",
    "    \"current_function\": rastrigin_function,\n",
    "}"
   ]
  },
  {
   "cell_type": "markdown",
   "metadata": {},
   "source": [
    "- ##### Algoritmo Genético"
   ]
  },
  {
   "cell_type": "code",
   "execution_count": null,
   "metadata": {},
   "outputs": [],
   "source": [
    "for i in range(NUMBER_OF_EXECUTIONS):\n",
    "   global_min_value = genetic_algorithm(**params)\n",
    "   rastrigin_min_values_genetic.append(global_min_value)"
   ]
  },
  {
   "cell_type": "markdown",
   "metadata": {},
   "source": [
    "- ##### Algoritmo Evolutivo"
   ]
  },
  {
   "cell_type": "code",
   "execution_count": null,
   "metadata": {},
   "outputs": [],
   "source": [
    "params.pop(\"crossover_prob\")\n",
    "params[\"mutation_rate\"] = 0.8\n",
    "\n",
    "for i in range(NUMBER_OF_EXECUTIONS):\n",
    "   global_min_value = evolution_strategy(**params)\n",
    "   rastrigin_min_values_evolutionary.append(global_min_value)"
   ]
  },
  {
   "cell_type": "markdown",
   "metadata": {},
   "source": [
    "Results Comparasion"
   ]
  },
  {
   "cell_type": "code",
   "execution_count": null,
   "metadata": {},
   "outputs": [],
   "source": [
    "print(\"***** RASTRIGIN FUNCTION COMPARASION *****\")\n",
    "print('Global min value mean (Evolutionary): ', numpy.mean(rastrigin_min_values_evolutionary))\n",
    "print('Global min value mean (Genetic): ', numpy.mean(rastrigin_min_values_genetic))"
   ]
  },
  {
   "attachments": {},
   "cell_type": "markdown",
   "metadata": {},
   "source": [
    "##### Schwefel function"
   ]
  },
  {
   "cell_type": "code",
   "execution_count": 12,
   "metadata": {},
   "outputs": [],
   "source": [
    "min_value, max_value = -500, 500\n",
    "schwefel_min_values_genetic = []\n",
    "schwefel_min_values_evolutionary = []\n",
    "params = {\n",
    "    \"pop_size\": POPULATION_SIZE,\n",
    "    \"num_generations\": NUM_GENERATIONS,\n",
    "    \"mutation_rate\": MUTATION_RATE,\n",
    "    \"crossover_prob\": CROSSOVER_PROB,\n",
    "    \"elitism_size\": ELITISM_SIZE,\n",
    "    \"num_childs\": NUM_CHILDS,\n",
    "    \"dimensions\": DIMENSIONS,\n",
    "    \"min_value\": min_value,\n",
    "    \"max_value\": max_value,\n",
    "    \"current_function\": schwefel_function,\n",
    "}"
   ]
  },
  {
   "cell_type": "markdown",
   "metadata": {},
   "source": [
    "- ##### Algoritmo Genético"
   ]
  },
  {
   "cell_type": "code",
   "execution_count": null,
   "metadata": {},
   "outputs": [],
   "source": [
    "for i in range(NUMBER_OF_EXECUTIONS):\n",
    "   global_min_value = genetic_algorithm(**params)\n",
    "   schwefel_min_values_genetic.append(global_min_value)"
   ]
  },
  {
   "cell_type": "markdown",
   "metadata": {},
   "source": [
    "- ##### Algoritmo Evolutivo"
   ]
  },
  {
   "cell_type": "code",
   "execution_count": null,
   "metadata": {},
   "outputs": [],
   "source": [
    "params.pop(\"crossover_prob\")\n",
    "params[\"mutation_rate\"] = 0.8\n",
    "\n",
    "\n",
    "for i in range(NUMBER_OF_EXECUTIONS):\n",
    "   global_min_value = evolution_strategy(**params)\n",
    "   schwefel_min_values_evolutionary.append(global_min_value)"
   ]
  },
  {
   "cell_type": "markdown",
   "metadata": {},
   "source": [
    "Results Comparasion"
   ]
  },
  {
   "cell_type": "code",
   "execution_count": null,
   "metadata": {},
   "outputs": [],
   "source": [
    "print(\"***** SCHWEFEL FUNCTION COMPARASION *****\")\n",
    "print('Global min value mean (Evolutionary): ', numpy.mean(schwefel_min_values_evolutionary))\n",
    "print('Global min value mean (Genetic): ', numpy.mean(schwefel_min_values_genetic))"
   ]
  },
  {
   "attachments": {},
   "cell_type": "markdown",
   "metadata": {},
   "source": [
    "##### Rosenbrock function"
   ]
  },
  {
   "cell_type": "code",
   "execution_count": 16,
   "metadata": {},
   "outputs": [],
   "source": [
    "min_value, max_value = -5, 10\n",
    "rosenbrock_min_values_genetic = []\n",
    "rosenbrock_min_values_evolutionary = []\n",
    "params = {\n",
    "    \"pop_size\": POPULATION_SIZE,\n",
    "    \"num_generations\": NUM_GENERATIONS,\n",
    "    \"mutation_rate\": MUTATION_RATE,\n",
    "    \"crossover_prob\": CROSSOVER_PROB,\n",
    "    \"elitism_size\": ELITISM_SIZE,\n",
    "    \"num_childs\": NUM_CHILDS,\n",
    "    \"dimensions\": DIMENSIONS,\n",
    "    \"min_value\": min_value,\n",
    "    \"max_value\": max_value,\n",
    "    \"current_function\": rosenbrock_function,\n",
    "}"
   ]
  },
  {
   "cell_type": "markdown",
   "metadata": {},
   "source": [
    "- ##### Algoritmo Genético"
   ]
  },
  {
   "cell_type": "code",
   "execution_count": null,
   "metadata": {},
   "outputs": [],
   "source": [
    "for i in range(NUMBER_OF_EXECUTIONS):\n",
    "   global_min_value = genetic_algorithm(**params)\n",
    "   rosenbrock_min_values_genetic.append(global_min_value)"
   ]
  },
  {
   "cell_type": "markdown",
   "metadata": {},
   "source": [
    "- ##### Algoritmo Evolutivo"
   ]
  },
  {
   "cell_type": "code",
   "execution_count": null,
   "metadata": {},
   "outputs": [],
   "source": [
    "params.pop(\"crossover_prob\")\n",
    "params[\"mutation_rate\"] = 0.8\n",
    "\n",
    "\n",
    "for i in range(NUMBER_OF_EXECUTIONS):\n",
    "   global_min_value = evolution_strategy(**params)\n",
    "   rosenbrock_min_values_evolutionary.append(global_min_value)"
   ]
  },
  {
   "cell_type": "markdown",
   "metadata": {},
   "source": [
    "Results Comparasion"
   ]
  },
  {
   "cell_type": "code",
   "execution_count": null,
   "metadata": {},
   "outputs": [],
   "source": [
    "print(\"***** ROSENBROCK FUNCTION COMPARASION *****\")\n",
    "print('Global min value mean (Evolutionary): ', numpy.mean(rosenbrock_min_values_evolutionary))\n",
    "print('Global min value mean (Genetic): ', numpy.mean(rosenbrock_min_values_genetic))"
   ]
  },
  {
   "cell_type": "code",
   "execution_count": null,
   "metadata": {},
   "outputs": [],
   "source": []
  }
 ],
 "metadata": {
  "kernelspec": {
   "display_name": "Python 3",
   "language": "python",
   "name": "python3"
  },
  "language_info": {
   "codemirror_mode": {
    "name": "ipython",
    "version": 3
   },
   "file_extension": ".py",
   "mimetype": "text/x-python",
   "name": "python",
   "nbconvert_exporter": "python",
   "pygments_lexer": "ipython3",
   "version": "3.10.12"
  },
  "orig_nbformat": 4
 },
 "nbformat": 4,
 "nbformat_minor": 2
}
