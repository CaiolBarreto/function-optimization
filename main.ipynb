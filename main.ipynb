{
 "cells": [
  {
   "attachments": {},
   "cell_type": "markdown",
   "metadata": {},
   "source": [
    "### Imports"
   ]
  },
  {
   "cell_type": "code",
   "execution_count": 1,
   "metadata": {},
   "outputs": [],
   "source": [
    "from functions import *\n",
    "from GeneticAlgorithm import genetic_algorithm\n",
    "from EvolutionaryAlgorithm import evolution_strategy\n",
    "import numpy"
   ]
  },
  {
   "attachments": {},
   "cell_type": "markdown",
   "metadata": {},
   "source": [
    "### Constants"
   ]
  },
  {
   "cell_type": "code",
   "execution_count": 2,
   "metadata": {},
   "outputs": [],
   "source": [
    "POPULATION_SIZE = 200\n",
    "NUM_GENERATIONS = 150\n",
    "MUTATION_RATE = 0.2\n",
    "CROSSOVER_PROB = 0.9\n",
    "ELITISM_SIZE = 5\n",
    "DIMENSIONS = 30\n",
    "NUMBER_OF_EXECUTIONS = 30"
   ]
  },
  {
   "attachments": {},
   "cell_type": "markdown",
   "metadata": {},
   "source": [
    "### Implementations"
   ]
  },
  {
   "attachments": {},
   "cell_type": "markdown",
   "metadata": {},
   "source": [
    "##### Ackley Function"
   ]
  },
  {
   "cell_type": "code",
   "execution_count": 3,
   "metadata": {},
   "outputs": [],
   "source": [
    "min_value, max_value = -32.768, 32.768\n",
    "ackley_min_values_genetic = []\n",
    "ackley_min_values_evolutionary = []\n",
    "params = {\n",
    "    \"pop_size\": POPULATION_SIZE,\n",
    "    \"num_generations\": NUM_GENERATIONS,\n",
    "    \"mutation_rate\": MUTATION_RATE,\n",
    "    \"crossover_prob\": CROSSOVER_PROB,\n",
    "    \"elitism_size\": ELITISM_SIZE,\n",
    "    \"dimensions\": DIMENSIONS,\n",
    "    \"min_value\": min_value,\n",
    "    \"max_value\": max_value,\n",
    "    \"current_function\": ackley_function,\n",
    "}"
   ]
  },
  {
   "cell_type": "markdown",
   "metadata": {},
   "source": [
    "- ##### Algoritmo Genético"
   ]
  },
  {
   "cell_type": "code",
   "execution_count": 4,
   "metadata": {},
   "outputs": [
    {
     "name": "stdout",
     "output_type": "stream",
     "text": [
      "Global Minimum Value: 10.11702577677557\n",
      "Global Minimum Value: 10.821526850036944\n",
      "Global Minimum Value: 10.001072378524645\n",
      "Global Minimum Value: 9.62013422026208\n",
      "Global Minimum Value: 9.359813371806512\n",
      "Global Minimum Value: 11.464720489582884\n",
      "Global Minimum Value: 11.42766462348082\n",
      "Global Minimum Value: 10.778355441753352\n",
      "Global Minimum Value: 11.151478581245478\n",
      "Global Minimum Value: 9.106951736166728\n",
      "Global Minimum Value: 10.675264104427075\n",
      "Global Minimum Value: 10.345402477722374\n",
      "Global Minimum Value: 8.726489919631593\n",
      "Global Minimum Value: 10.368562461289585\n",
      "Global Minimum Value: 11.19959411207934\n",
      "Global Minimum Value: 10.3085994480046\n",
      "Global Minimum Value: 10.263248302415548\n",
      "Global Minimum Value: 9.549137469880872\n",
      "Global Minimum Value: 11.247867684440234\n",
      "Global Minimum Value: 10.337785568689945\n",
      "Global Minimum Value: 10.459475785024608\n",
      "Global Minimum Value: 10.233907812866011\n",
      "Global Minimum Value: 10.6970594641506\n",
      "Global Minimum Value: 9.256081150207304\n",
      "Global Minimum Value: 10.449790744696205\n",
      "Global Minimum Value: 10.355501241031941\n",
      "Global Minimum Value: 9.631694571136865\n",
      "Global Minimum Value: 10.344048107178994\n",
      "Global Minimum Value: 12.516602397931706\n",
      "Global Minimum Value: 9.941310508074936\n"
     ]
    }
   ],
   "source": [
    "for i in range(NUMBER_OF_EXECUTIONS):\n",
    "   global_min_value = genetic_algorithm(**params)\n",
    "   ackley_min_values_genetic.append(global_min_value)"
   ]
  },
  {
   "cell_type": "markdown",
   "metadata": {},
   "source": [
    "- ##### Algoritmo Evolutivo"
   ]
  },
  {
   "cell_type": "code",
   "execution_count": 10,
   "metadata": {},
   "outputs": [
    {
     "name": "stdout",
     "output_type": "stream",
     "text": [
      "Global Minimum Value: 11.699178786523177\n",
      "Global Minimum Value: 11.46834599671046\n",
      "Global Minimum Value: 11.89102910225972\n",
      "Global Minimum Value: 11.256984810694306\n",
      "Global Minimum Value: 12.645353660597259\n",
      "Global Minimum Value: 11.379943175844625\n",
      "Global Minimum Value: 12.187130942277841\n",
      "Global Minimum Value: 13.55517907418414\n",
      "Global Minimum Value: 12.791735089922184\n",
      "Global Minimum Value: 12.790560679796606\n",
      "Global Minimum Value: 11.379474733617451\n",
      "Global Minimum Value: 11.554855568097441\n",
      "Global Minimum Value: 11.523218287002159\n",
      "Global Minimum Value: 11.289906076662536\n",
      "Global Minimum Value: 11.540307409105356\n",
      "Global Minimum Value: 10.53942312337387\n",
      "Global Minimum Value: 12.390651578045919\n",
      "Global Minimum Value: 11.241542204999769\n",
      "Global Minimum Value: 11.136703772100123\n",
      "Global Minimum Value: 12.174211378897516\n",
      "Global Minimum Value: 11.584759407782688\n",
      "Global Minimum Value: 13.583932303098768\n",
      "Global Minimum Value: 10.559771492082383\n",
      "Global Minimum Value: 10.620289823249193\n",
      "Global Minimum Value: 11.346677053447655\n",
      "Global Minimum Value: 12.009018410036617\n",
      "Global Minimum Value: 12.111393805257123\n",
      "Global Minimum Value: 10.878612442103547\n",
      "Global Minimum Value: 12.493379544692383\n",
      "Global Minimum Value: 12.482949941406954\n"
     ]
    }
   ],
   "source": [
    "params.pop(\"crossover_prob\")\n",
    "params[\"mutation_rate\"] = 0.8\n",
    "\n",
    "for i in range(NUMBER_OF_EXECUTIONS):\n",
    "    global_min_value = evolution_strategy(**params)\n",
    "    ackley_min_values_evolutionary.append(global_min_value)"
   ]
  },
  {
   "cell_type": "markdown",
   "metadata": {},
   "source": [
    "Results Comparasion"
   ]
  },
  {
   "cell_type": "code",
   "execution_count": 11,
   "metadata": {},
   "outputs": [
    {
     "name": "stdout",
     "output_type": "stream",
     "text": [
      "***** ACKLEY FUNCTION COMPARASION *****\n",
      "Global min value mean (Evolutionary):  12.389330114486837\n",
      "Global min value mean (Genetic):  10.358538893350511\n"
     ]
    }
   ],
   "source": [
    "print(\"***** ACKLEY FUNCTION COMPARASION *****\")\n",
    "print('Global min value mean (Evolutionary): ', numpy.mean(ackley_min_values_evolutionary))\n",
    "print('Global min value mean (Genetic): ', numpy.mean(ackley_min_values_genetic))"
   ]
  },
  {
   "attachments": {},
   "cell_type": "markdown",
   "metadata": {},
   "source": [
    "##### Rastrigin function"
   ]
  },
  {
   "cell_type": "code",
   "execution_count": 12,
   "metadata": {},
   "outputs": [],
   "source": [
    "min_value, max_value = -5.12, 5.12\n",
    "rastrigin_min_values_genetic = []\n",
    "rastrigin_min_values_evolutionary = []\n",
    "params = {\n",
    "    \"pop_size\": POPULATION_SIZE,\n",
    "    \"num_generations\": NUM_GENERATIONS,\n",
    "    \"mutation_rate\": MUTATION_RATE,\n",
    "    \"crossover_prob\": CROSSOVER_PROB,\n",
    "    \"elitism_size\": ELITISM_SIZE,\n",
    "    \"dimensions\": DIMENSIONS,\n",
    "    \"min_value\": min_value,\n",
    "    \"max_value\": max_value,\n",
    "    \"current_function\": rastrigin_function,\n",
    "}"
   ]
  },
  {
   "cell_type": "markdown",
   "metadata": {},
   "source": [
    "- ##### Algoritmo Genético"
   ]
  },
  {
   "cell_type": "code",
   "execution_count": 13,
   "metadata": {},
   "outputs": [
    {
     "name": "stdout",
     "output_type": "stream",
     "text": [
      "Global Minimum Value: 38.0549667342201\n",
      "Global Minimum Value: 46.71850371503828\n",
      "Global Minimum Value: 54.6315151870958\n",
      "Global Minimum Value: 49.88705772224728\n",
      "Global Minimum Value: 45.7424903479926\n",
      "Global Minimum Value: 35.21813076553849\n",
      "Global Minimum Value: 59.97853637813304\n",
      "Global Minimum Value: 41.525923109142866\n",
      "Global Minimum Value: 32.380662369084746\n",
      "Global Minimum Value: 42.55596392597192\n",
      "Global Minimum Value: 44.2864453021854\n",
      "Global Minimum Value: 35.85660145975032\n",
      "Global Minimum Value: 44.78178202862381\n",
      "Global Minimum Value: 38.825428871117595\n",
      "Global Minimum Value: 48.149261239565334\n",
      "Global Minimum Value: 66.42959421665498\n",
      "Global Minimum Value: 46.11373210858534\n",
      "Global Minimum Value: 62.06990043253225\n",
      "Global Minimum Value: 56.58370528805534\n",
      "Global Minimum Value: 47.05391650334198\n",
      "Global Minimum Value: 65.18135638063777\n",
      "Global Minimum Value: 51.941716362439905\n",
      "Global Minimum Value: 34.6575383341891\n",
      "Global Minimum Value: 52.81337437588937\n",
      "Global Minimum Value: 29.006100019059318\n",
      "Global Minimum Value: 38.22341273405232\n",
      "Global Minimum Value: 42.93288922123401\n",
      "Global Minimum Value: 50.63107311200383\n",
      "Global Minimum Value: 42.386342053113594\n",
      "Global Minimum Value: 43.97150723351257\n"
     ]
    }
   ],
   "source": [
    "for i in range(NUMBER_OF_EXECUTIONS):\n",
    "   global_min_value = genetic_algorithm(**params)\n",
    "   rastrigin_min_values_genetic.append(global_min_value)"
   ]
  },
  {
   "cell_type": "markdown",
   "metadata": {},
   "source": [
    "- ##### Algoritmo Evolutivo"
   ]
  },
  {
   "cell_type": "code",
   "execution_count": 20,
   "metadata": {},
   "outputs": [
    {
     "name": "stdout",
     "output_type": "stream",
     "text": [
      "Global Minimum Value: 74.13005471439067\n",
      "Global Minimum Value: 76.46780120416483\n",
      "Global Minimum Value: 102.01569798137467\n",
      "Global Minimum Value: 76.65899710078597\n",
      "Global Minimum Value: 90.64267831352672\n",
      "Global Minimum Value: 70.8518432332958\n",
      "Global Minimum Value: 90.28752941538454\n",
      "Global Minimum Value: 89.13333922381199\n",
      "Global Minimum Value: 104.51557724571816\n",
      "Global Minimum Value: 78.05095568258884\n",
      "Global Minimum Value: 88.58054950429852\n",
      "Global Minimum Value: 81.6746153745188\n",
      "Global Minimum Value: 88.37006076442327\n",
      "Global Minimum Value: 85.97496785782045\n",
      "Global Minimum Value: 87.75754276547659\n",
      "Global Minimum Value: 101.27981489322548\n",
      "Global Minimum Value: 96.98392980083281\n",
      "Global Minimum Value: 96.69669821510084\n",
      "Global Minimum Value: 91.90043433161671\n",
      "Global Minimum Value: 80.2282550292116\n",
      "Global Minimum Value: 112.45811685029784\n",
      "Global Minimum Value: 105.16132138899388\n",
      "Global Minimum Value: 86.77979683213238\n",
      "Global Minimum Value: 79.54520518722686\n",
      "Global Minimum Value: 75.29219130323585\n",
      "Global Minimum Value: 90.34715812985812\n",
      "Global Minimum Value: 88.20917753833953\n",
      "Global Minimum Value: 110.7027601539944\n",
      "Global Minimum Value: 99.9850652349314\n",
      "Global Minimum Value: 105.56800215950122\n"
     ]
    }
   ],
   "source": [
    "params.pop(\"crossover_prob\")\n",
    "params[\"mutation_rate\"] = 0.8\n",
    "\n",
    "for i in range(NUMBER_OF_EXECUTIONS):\n",
    "   global_min_value = evolution_strategy(**params)\n",
    "   rastrigin_min_values_evolutionary.append(global_min_value)"
   ]
  },
  {
   "cell_type": "markdown",
   "metadata": {},
   "source": [
    "Results Comparasion"
   ]
  },
  {
   "cell_type": "code",
   "execution_count": 21,
   "metadata": {},
   "outputs": [
    {
     "name": "stdout",
     "output_type": "stream",
     "text": [
      "***** RASTRIGIN FUNCTION COMPARASION *****\n",
      "Global min value mean (Evolutionary):  101.70780385434423\n",
      "Global min value mean (Genetic):  46.28631425103365\n"
     ]
    }
   ],
   "source": [
    "print(\"***** RASTRIGIN FUNCTION COMPARASION *****\")\n",
    "print('Global min value mean (Evolutionary): ', numpy.mean(rastrigin_min_values_evolutionary))\n",
    "print('Global min value mean (Genetic): ', numpy.mean(rastrigin_min_values_genetic))"
   ]
  },
  {
   "attachments": {},
   "cell_type": "markdown",
   "metadata": {},
   "source": [
    "##### Schwefel function"
   ]
  },
  {
   "cell_type": "code",
   "execution_count": 22,
   "metadata": {},
   "outputs": [],
   "source": [
    "min_value, max_value = -500, 500\n",
    "schwefel_min_values_genetic = []\n",
    "schwefel_min_values_evolutionary = []\n",
    "params = {\n",
    "    \"pop_size\": POPULATION_SIZE,\n",
    "    \"num_generations\": NUM_GENERATIONS,\n",
    "    \"mutation_rate\": MUTATION_RATE,\n",
    "    \"crossover_prob\": CROSSOVER_PROB,\n",
    "    \"elitism_size\": ELITISM_SIZE,\n",
    "    \"dimensions\": DIMENSIONS,\n",
    "    \"min_value\": min_value,\n",
    "    \"max_value\": max_value,\n",
    "    \"current_function\": schwefel_function,\n",
    "}"
   ]
  },
  {
   "cell_type": "markdown",
   "metadata": {},
   "source": [
    "- ##### Algoritmo Genético"
   ]
  },
  {
   "cell_type": "code",
   "execution_count": 23,
   "metadata": {},
   "outputs": [
    {
     "name": "stdout",
     "output_type": "stream",
     "text": [
      "Global Minimum Value: 757.8682161393608\n",
      "Global Minimum Value: 1399.779933548447\n",
      "Global Minimum Value: 1306.3180735013284\n",
      "Global Minimum Value: 519.7741032107533\n",
      "Global Minimum Value: 691.2095731084846\n",
      "Global Minimum Value: 593.5827348518305\n",
      "Global Minimum Value: 773.0307743569374\n",
      "Global Minimum Value: 904.4564903814899\n",
      "Global Minimum Value: 1170.9184757111743\n",
      "Global Minimum Value: 777.227245898599\n",
      "Global Minimum Value: 922.2802979354874\n",
      "Global Minimum Value: 1113.102107215498\n",
      "Global Minimum Value: 995.7909646684657\n",
      "Global Minimum Value: 1151.0541064566169\n",
      "Global Minimum Value: 724.0902950162708\n",
      "Global Minimum Value: 956.9154196998497\n",
      "Global Minimum Value: 1441.0725371269564\n",
      "Global Minimum Value: 1037.625659452333\n",
      "Global Minimum Value: 1129.0559199008221\n",
      "Global Minimum Value: 602.0286898077247\n",
      "Global Minimum Value: 1044.5115476938809\n",
      "Global Minimum Value: 1035.1408512801918\n",
      "Global Minimum Value: 847.9364504664463\n",
      "Global Minimum Value: 1508.728396616214\n",
      "Global Minimum Value: 901.9400738408895\n",
      "Global Minimum Value: 1147.3386077725481\n",
      "Global Minimum Value: 904.2952356490969\n",
      "Global Minimum Value: 486.410632661662\n",
      "Global Minimum Value: 715.353984747062\n",
      "Global Minimum Value: 983.3222771049277\n"
     ]
    }
   ],
   "source": [
    "for i in range(NUMBER_OF_EXECUTIONS):\n",
    "   global_min_value = genetic_algorithm(**params)\n",
    "   schwefel_min_values_genetic.append(global_min_value)"
   ]
  },
  {
   "cell_type": "markdown",
   "metadata": {},
   "source": [
    "- ##### Algoritmo Evolutivo"
   ]
  },
  {
   "cell_type": "code",
   "execution_count": 24,
   "metadata": {},
   "outputs": [
    {
     "name": "stdout",
     "output_type": "stream",
     "text": [
      "Global Minimum Value: 1871.1732334112821\n",
      "Global Minimum Value: 2230.831791426477\n",
      "Global Minimum Value: 3009.765752398025\n",
      "Global Minimum Value: 1899.3358844350805\n",
      "Global Minimum Value: 3425.0086491129823\n",
      "Global Minimum Value: 2920.3864410104525\n",
      "Global Minimum Value: 2468.162897807306\n",
      "Global Minimum Value: 2625.814242300303\n",
      "Global Minimum Value: 2227.133235485735\n",
      "Global Minimum Value: 2768.3746197336786\n",
      "Global Minimum Value: 2679.060901279301\n",
      "Global Minimum Value: 2214.3085485026313\n",
      "Global Minimum Value: 2282.701401699893\n",
      "Global Minimum Value: 2565.2883065938713\n",
      "Global Minimum Value: 2480.276811464142\n",
      "Global Minimum Value: 2771.5703780637523\n",
      "Global Minimum Value: 2749.774025031609\n",
      "Global Minimum Value: 1886.4431263864935\n",
      "Global Minimum Value: 3003.6423128514525\n",
      "Global Minimum Value: 2450.5344160792683\n",
      "Global Minimum Value: 2686.138567091233\n",
      "Global Minimum Value: 2644.3580127404293\n",
      "Global Minimum Value: 2898.713864413541\n",
      "Global Minimum Value: 2110.3424254293623\n",
      "Global Minimum Value: 2702.9818507200252\n",
      "Global Minimum Value: 2444.3924398515683\n",
      "Global Minimum Value: 2044.5276356303439\n",
      "Global Minimum Value: 2870.9781370860746\n",
      "Global Minimum Value: 1956.1469847164935\n",
      "Global Minimum Value: 2463.5145732077017\n"
     ]
    }
   ],
   "source": [
    "params.pop(\"crossover_prob\")\n",
    "params[\"mutation_rate\"] = 0.8\n",
    "\n",
    "\n",
    "for i in range(NUMBER_OF_EXECUTIONS):\n",
    "   global_min_value = evolution_strategy(**params)\n",
    "   schwefel_min_values_evolutionary.append(global_min_value)"
   ]
  },
  {
   "cell_type": "markdown",
   "metadata": {},
   "source": [
    "Results Comparasion"
   ]
  },
  {
   "cell_type": "code",
   "execution_count": 25,
   "metadata": {},
   "outputs": [
    {
     "name": "stdout",
     "output_type": "stream",
     "text": [
      "***** SCHWEFEL FUNCTION COMPARASION *****\n",
      "Global min value mean (Evolutionary):  2511.7227155320174\n",
      "Global min value mean (Genetic):  951.4053225273781\n"
     ]
    }
   ],
   "source": [
    "print(\"***** SCHWEFEL FUNCTION COMPARASION *****\")\n",
    "print('Global min value mean (Evolutionary): ', numpy.mean(schwefel_min_values_evolutionary))\n",
    "print('Global min value mean (Genetic): ', numpy.mean(schwefel_min_values_genetic))"
   ]
  },
  {
   "attachments": {},
   "cell_type": "markdown",
   "metadata": {},
   "source": [
    "##### Rosenbrock function"
   ]
  },
  {
   "cell_type": "code",
   "execution_count": 26,
   "metadata": {},
   "outputs": [],
   "source": [
    "min_value, max_value = -5, 10\n",
    "rosenbrock_min_values_genetic = []\n",
    "rosenbrock_min_values_evolutionary = []\n",
    "params = {\n",
    "    \"pop_size\": POPULATION_SIZE,\n",
    "    \"num_generations\": NUM_GENERATIONS,\n",
    "    \"mutation_rate\": MUTATION_RATE,\n",
    "    \"crossover_prob\": CROSSOVER_PROB,\n",
    "    \"elitism_size\": ELITISM_SIZE,\n",
    "    \"dimensions\": DIMENSIONS,\n",
    "    \"min_value\": min_value,\n",
    "    \"max_value\": max_value,\n",
    "    \"current_function\": rosenbrock_function,\n",
    "}"
   ]
  },
  {
   "cell_type": "markdown",
   "metadata": {},
   "source": [
    "- ##### Algoritmo Genético"
   ]
  },
  {
   "cell_type": "code",
   "execution_count": 27,
   "metadata": {},
   "outputs": [
    {
     "name": "stdout",
     "output_type": "stream",
     "text": [
      "Global Minimum Value: 609.7896375363443\n",
      "Global Minimum Value: 1018.3105255275261\n",
      "Global Minimum Value: 549.3391502154661\n",
      "Global Minimum Value: 728.7271783556923\n",
      "Global Minimum Value: 957.1755260498145\n",
      "Global Minimum Value: 570.4101707553921\n",
      "Global Minimum Value: 1880.4796025939506\n",
      "Global Minimum Value: 614.1997372315553\n",
      "Global Minimum Value: 1461.753370733509\n",
      "Global Minimum Value: 467.1839057826564\n",
      "Global Minimum Value: 950.8310093663214\n",
      "Global Minimum Value: 777.4631212494422\n",
      "Global Minimum Value: 660.3231176453162\n",
      "Global Minimum Value: 467.5518912437537\n",
      "Global Minimum Value: 1066.3872467602632\n",
      "Global Minimum Value: 1129.5940367948222\n",
      "Global Minimum Value: 619.3400417722307\n",
      "Global Minimum Value: 795.8067419614221\n",
      "Global Minimum Value: 931.6625068830555\n",
      "Global Minimum Value: 694.9866992541605\n",
      "Global Minimum Value: 549.1846358320038\n",
      "Global Minimum Value: 751.9558002172629\n",
      "Global Minimum Value: 1031.7103473913664\n",
      "Global Minimum Value: 1515.490750442814\n",
      "Global Minimum Value: 625.2320082274783\n",
      "Global Minimum Value: 1113.413094084473\n",
      "Global Minimum Value: 937.17060954144\n",
      "Global Minimum Value: 917.9298002858985\n",
      "Global Minimum Value: 776.2801255738731\n",
      "Global Minimum Value: 1772.1768372798647\n"
     ]
    }
   ],
   "source": [
    "for i in range(NUMBER_OF_EXECUTIONS):\n",
    "   global_min_value = genetic_algorithm(**params)\n",
    "   rosenbrock_min_values_genetic.append(global_min_value)"
   ]
  },
  {
   "cell_type": "markdown",
   "metadata": {},
   "source": [
    "- ##### Algoritmo Evolutivo"
   ]
  },
  {
   "cell_type": "code",
   "execution_count": 28,
   "metadata": {},
   "outputs": [
    {
     "name": "stdout",
     "output_type": "stream",
     "text": [
      "Global Minimum Value: 6207.171760672779\n",
      "Global Minimum Value: 7365.164680282813\n",
      "Global Minimum Value: 13000.91247254714\n",
      "Global Minimum Value: 8163.24371324049\n",
      "Global Minimum Value: 6278.852274716784\n",
      "Global Minimum Value: 5348.012001910537\n",
      "Global Minimum Value: 8190.302587528178\n",
      "Global Minimum Value: 6874.440001996929\n",
      "Global Minimum Value: 6909.092596075054\n",
      "Global Minimum Value: 7027.665486626026\n",
      "Global Minimum Value: 7153.67998169034\n",
      "Global Minimum Value: 10720.230856687327\n",
      "Global Minimum Value: 7904.918232705908\n",
      "Global Minimum Value: 9227.52814662025\n",
      "Global Minimum Value: 3651.6233573218706\n",
      "Global Minimum Value: 5262.923031583213\n",
      "Global Minimum Value: 4913.956889315256\n",
      "Global Minimum Value: 5199.62111775444\n",
      "Global Minimum Value: 4744.529973687296\n",
      "Global Minimum Value: 3356.8047596566385\n",
      "Global Minimum Value: 4506.779715734389\n",
      "Global Minimum Value: 9364.166551140217\n",
      "Global Minimum Value: 8525.317669104177\n",
      "Global Minimum Value: 11069.38290853209\n",
      "Global Minimum Value: 3851.490596062419\n",
      "Global Minimum Value: 7025.488213327349\n",
      "Global Minimum Value: 11054.125353760111\n",
      "Global Minimum Value: 6952.1341588539235\n",
      "Global Minimum Value: 4141.4390474055845\n",
      "Global Minimum Value: 16644.07205053655\n"
     ]
    }
   ],
   "source": [
    "params.pop(\"crossover_prob\")\n",
    "params[\"mutation_rate\"] = 0.8\n",
    "\n",
    "\n",
    "for i in range(NUMBER_OF_EXECUTIONS):\n",
    "   global_min_value = evolution_strategy(**params)\n",
    "   rosenbrock_min_values_evolutionary.append(global_min_value)"
   ]
  },
  {
   "cell_type": "markdown",
   "metadata": {},
   "source": [
    "Results Comparasion"
   ]
  },
  {
   "cell_type": "code",
   "execution_count": 29,
   "metadata": {},
   "outputs": [
    {
     "name": "stdout",
     "output_type": "stream",
     "text": [
      "***** ROSENBROCK FUNCTION COMPARASION *****\n",
      "Global min value mean (Evolutionary):  7354.502339569202\n",
      "Global min value mean (Genetic):  898.0619742196392\n"
     ]
    }
   ],
   "source": [
    "print(\"***** ROSENBROCK FUNCTION COMPARASION *****\")\n",
    "print('Global min value mean (Evolutionary): ', numpy.mean(rosenbrock_min_values_evolutionary))\n",
    "print('Global min value mean (Genetic): ', numpy.mean(rosenbrock_min_values_genetic))"
   ]
  },
  {
   "cell_type": "code",
   "execution_count": null,
   "metadata": {},
   "outputs": [],
   "source": []
  }
 ],
 "metadata": {
  "kernelspec": {
   "display_name": "Python 3",
   "language": "python",
   "name": "python3"
  },
  "language_info": {
   "codemirror_mode": {
    "name": "ipython",
    "version": 3
   },
   "file_extension": ".py",
   "mimetype": "text/x-python",
   "name": "python",
   "nbconvert_exporter": "python",
   "pygments_lexer": "ipython3",
   "version": "3.10.12"
  },
  "orig_nbformat": 4
 },
 "nbformat": 4,
 "nbformat_minor": 2
}
