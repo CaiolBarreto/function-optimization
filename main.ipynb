{
 "cells": [
  {
   "attachments": {},
   "cell_type": "markdown",
   "metadata": {},
   "source": [
    "### Imports"
   ]
  },
  {
   "cell_type": "code",
   "execution_count": 1,
   "metadata": {},
   "outputs": [],
   "source": [
    "from functions import *\n",
    "from GeneticAlgorithm import genetic_algorithm\n",
    "from EvolutionaryAlgorithm import evolution_strategy\n",
    "import numpy"
   ]
  },
  {
   "attachments": {},
   "cell_type": "markdown",
   "metadata": {},
   "source": [
    "### Constants"
   ]
  },
  {
   "cell_type": "code",
   "execution_count": 2,
   "metadata": {},
   "outputs": [],
   "source": [
    "POPULATION_SIZE = 200\n",
    "NUM_GENERATIONS = 1000\n",
    "MUTATION_RATE = 0.2\n",
    "CROSSOVER_PROB = 0.7\n",
    "NUM_CHILDS = 20\n",
    "ELITISM_SIZE = 5\n",
    "DIMENSIONS = 30\n",
    "NUMBER_OF_EXECUTIONS = 5"
   ]
  },
  {
   "attachments": {},
   "cell_type": "markdown",
   "metadata": {},
   "source": [
    "### Implementations"
   ]
  },
  {
   "attachments": {},
   "cell_type": "markdown",
   "metadata": {},
   "source": [
    "##### Ackley Function"
   ]
  },
  {
   "cell_type": "code",
   "execution_count": 3,
   "metadata": {},
   "outputs": [],
   "source": [
    "min_value, max_value = -32.768, 32.768\n",
    "ackley_min_values_genetic = []\n",
    "ackley_min_values_evolutionary = []\n",
    "params = {\n",
    "    \"pop_size\": POPULATION_SIZE,\n",
    "    \"num_generations\": NUM_GENERATIONS,\n",
    "    \"mutation_rate\": MUTATION_RATE,\n",
    "    \"crossover_prob\": CROSSOVER_PROB,\n",
    "    \"elitism_size\": ELITISM_SIZE,\n",
    "    \"num_childs\": NUM_CHILDS,\n",
    "    \"dimensions\": DIMENSIONS,\n",
    "    \"min_value\": min_value,\n",
    "    \"max_value\": max_value,\n",
    "    \"current_function\": ackley_function,\n",
    "}"
   ]
  },
  {
   "attachments": {},
   "cell_type": "markdown",
   "metadata": {},
   "source": [
    "- ##### Algoritmo Genético"
   ]
  },
  {
   "cell_type": "code",
   "execution_count": 4,
   "metadata": {},
   "outputs": [
    {
     "name": "stdout",
     "output_type": "stream",
     "text": [
      "Global Minimum Value: 0.016998900926350036\n",
      "Global Minimum Value: 0.01567001584588157\n",
      "Global Minimum Value: 0.014815238180120094\n",
      "Global Minimum Value: 0.012180143492845463\n",
      "Global Minimum Value: 0.014323850639563762\n"
     ]
    }
   ],
   "source": [
    "for i in range(NUMBER_OF_EXECUTIONS):\n",
    "   global_min_value = genetic_algorithm(**params)\n",
    "   ackley_min_values_genetic.append(global_min_value)"
   ]
  },
  {
   "attachments": {},
   "cell_type": "markdown",
   "metadata": {},
   "source": [
    "- ##### Algoritmo Evolutivo"
   ]
  },
  {
   "cell_type": "code",
   "execution_count": 5,
   "metadata": {},
   "outputs": [
    {
     "name": "stdout",
     "output_type": "stream",
     "text": [
      "Global Minimum Value: 0.002991794107174872\n",
      "Global Minimum Value: 0.0027536338175768726\n",
      "Global Minimum Value: 0.0036029824225534135\n",
      "Global Minimum Value: 0.0032511591627835124\n",
      "Global Minimum Value: 0.003184085456326091\n"
     ]
    }
   ],
   "source": [
    "params.pop(\"crossover_prob\")\n",
    "params[\"mutation_rate\"] = 0.8\n",
    "\n",
    "for i in range(NUMBER_OF_EXECUTIONS):\n",
    "    global_min_value = evolution_strategy(**params)\n",
    "    ackley_min_values_evolutionary.append(global_min_value)"
   ]
  },
  {
   "attachments": {},
   "cell_type": "markdown",
   "metadata": {},
   "source": [
    "Results Comparasion"
   ]
  },
  {
   "cell_type": "code",
   "execution_count": 6,
   "metadata": {},
   "outputs": [
    {
     "name": "stdout",
     "output_type": "stream",
     "text": [
      "***** ACKLEY FUNCTION COMPARASION *****\n",
      "Global min value mean (Evolutionary):  0.0031567309932829524\n",
      "Global min value mean (Genetic):  0.014797629816952184\n"
     ]
    }
   ],
   "source": [
    "print(\"***** ACKLEY FUNCTION COMPARASION *****\")\n",
    "print('Global min value mean (Evolutionary): ', numpy.mean(ackley_min_values_evolutionary))\n",
    "print('Global min value mean (Genetic): ', numpy.mean(ackley_min_values_genetic))"
   ]
  },
  {
   "attachments": {},
   "cell_type": "markdown",
   "metadata": {},
   "source": [
    "##### Rastrigin function"
   ]
  },
  {
   "cell_type": "code",
   "execution_count": 7,
   "metadata": {},
   "outputs": [],
   "source": [
    "min_value, max_value = -5.12, 5.12\n",
    "rastrigin_min_values_genetic = []\n",
    "rastrigin_min_values_evolutionary = []\n",
    "params = {\n",
    "    \"pop_size\": POPULATION_SIZE,\n",
    "    \"num_generations\": NUM_GENERATIONS,\n",
    "    \"mutation_rate\": MUTATION_RATE,\n",
    "    \"crossover_prob\": CROSSOVER_PROB,\n",
    "    \"elitism_size\": ELITISM_SIZE,\n",
    "    \"num_childs\": NUM_CHILDS,\n",
    "    \"dimensions\": DIMENSIONS,\n",
    "    \"min_value\": min_value,\n",
    "    \"max_value\": max_value,\n",
    "    \"current_function\": rastrigin_function,\n",
    "}"
   ]
  },
  {
   "attachments": {},
   "cell_type": "markdown",
   "metadata": {},
   "source": [
    "- ##### Algoritmo Genético"
   ]
  },
  {
   "cell_type": "code",
   "execution_count": 8,
   "metadata": {},
   "outputs": [
    {
     "name": "stdout",
     "output_type": "stream",
     "text": [
      "Global Minimum Value: 0.0021094036465569843\n",
      "Global Minimum Value: 0.003113869148876347\n",
      "Global Minimum Value: 0.001667720446448584\n",
      "Global Minimum Value: 0.0035444804570943234\n",
      "Global Minimum Value: 0.0016527762732607698\n"
     ]
    }
   ],
   "source": [
    "for i in range(NUMBER_OF_EXECUTIONS):\n",
    "   global_min_value = genetic_algorithm(**params)\n",
    "   rastrigin_min_values_genetic.append(global_min_value)"
   ]
  },
  {
   "attachments": {},
   "cell_type": "markdown",
   "metadata": {},
   "source": [
    "- ##### Algoritmo Evolutivo"
   ]
  },
  {
   "cell_type": "code",
   "execution_count": 9,
   "metadata": {},
   "outputs": [
    {
     "name": "stdout",
     "output_type": "stream",
     "text": [
      "Global Minimum Value: 0.00012632235905130074\n",
      "Global Minimum Value: 9.533017612284311e-05\n",
      "Global Minimum Value: 0.000167952651622727\n",
      "Global Minimum Value: 8.938811561165494e-05\n",
      "Global Minimum Value: 7.77101998892249e-05\n"
     ]
    }
   ],
   "source": [
    "params.pop(\"crossover_prob\")\n",
    "params[\"mutation_rate\"] = 0.8\n",
    "\n",
    "for i in range(NUMBER_OF_EXECUTIONS):\n",
    "   global_min_value = evolution_strategy(**params)\n",
    "   rastrigin_min_values_evolutionary.append(global_min_value)"
   ]
  },
  {
   "attachments": {},
   "cell_type": "markdown",
   "metadata": {},
   "source": [
    "Results Comparasion"
   ]
  },
  {
   "cell_type": "code",
   "execution_count": 16,
   "metadata": {},
   "outputs": [
    {
     "name": "stdout",
     "output_type": "stream",
     "text": [
      "***** RASTRIGIN FUNCTION COMPARASION *****\n",
      "Global min value mean (Evolutionary):  0.00011134070045955013\n",
      "Global min value mean (Genetic):  0.0024176499944474016\n"
     ]
    }
   ],
   "source": [
    "print(\"***** RASTRIGIN FUNCTION COMPARASION *****\")\n",
    "print('Global min value mean (Evolutionary): ', numpy.mean(rastrigin_min_values_evolutionary))\n",
    "print('Global min value mean (Genetic): ', numpy.mean(rastrigin_min_values_genetic))"
   ]
  },
  {
   "attachments": {},
   "cell_type": "markdown",
   "metadata": {},
   "source": [
    "##### Schwefel function"
   ]
  },
  {
   "cell_type": "code",
   "execution_count": 10,
   "metadata": {},
   "outputs": [],
   "source": [
    "min_value, max_value = -500, 500\n",
    "schwefel_min_values_genetic = []\n",
    "schwefel_min_values_evolutionary = []\n",
    "params = {\n",
    "    \"pop_size\": POPULATION_SIZE,\n",
    "    \"num_generations\": NUM_GENERATIONS,\n",
    "    \"mutation_rate\": MUTATION_RATE,\n",
    "    \"crossover_prob\": CROSSOVER_PROB,\n",
    "    \"elitism_size\": ELITISM_SIZE,\n",
    "    \"num_childs\": NUM_CHILDS,\n",
    "    \"dimensions\": DIMENSIONS,\n",
    "    \"min_value\": min_value,\n",
    "    \"max_value\": max_value,\n",
    "    \"current_function\": schwefel_function,\n",
    "}"
   ]
  },
  {
   "attachments": {},
   "cell_type": "markdown",
   "metadata": {},
   "source": [
    "- ##### Algoritmo Genético"
   ]
  },
  {
   "cell_type": "code",
   "execution_count": 11,
   "metadata": {},
   "outputs": [
    {
     "name": "stdout",
     "output_type": "stream",
     "text": [
      "Global Minimum Value: 0.02560841426202387\n",
      "Global Minimum Value: 0.026301476689695846\n",
      "Global Minimum Value: 0.011798680094216252\n",
      "Global Minimum Value: 0.020337048312285333\n",
      "Global Minimum Value: 0.021156787131985766\n"
     ]
    }
   ],
   "source": [
    "for i in range(NUMBER_OF_EXECUTIONS):\n",
    "   global_min_value = genetic_algorithm(**params)\n",
    "   schwefel_min_values_genetic.append(global_min_value)"
   ]
  },
  {
   "attachments": {},
   "cell_type": "markdown",
   "metadata": {},
   "source": [
    "- ##### Algoritmo Evolutivo"
   ]
  },
  {
   "cell_type": "code",
   "execution_count": 12,
   "metadata": {},
   "outputs": [
    {
     "name": "stdout",
     "output_type": "stream",
     "text": [
      "Global Minimum Value: 0.0017616052318771835\n",
      "Global Minimum Value: 0.0011211646706215106\n",
      "Global Minimum Value: 0.0011375806734577054\n",
      "Global Minimum Value: 0.0007747381714580115\n",
      "Global Minimum Value: 0.0012277254263608484\n"
     ]
    }
   ],
   "source": [
    "params.pop(\"crossover_prob\")\n",
    "params[\"mutation_rate\"] = 0.8\n",
    "\n",
    "\n",
    "for i in range(NUMBER_OF_EXECUTIONS):\n",
    "   global_min_value = evolution_strategy(**params)\n",
    "   schwefel_min_values_evolutionary.append(global_min_value)"
   ]
  },
  {
   "attachments": {},
   "cell_type": "markdown",
   "metadata": {},
   "source": [
    "Results Comparasion"
   ]
  },
  {
   "cell_type": "code",
   "execution_count": 17,
   "metadata": {},
   "outputs": [
    {
     "name": "stdout",
     "output_type": "stream",
     "text": [
      "***** SCHWEFEL FUNCTION COMPARASION *****\n",
      "Global min value mean (Evolutionary):  0.001204562834755052\n",
      "Global min value mean (Genetic):  0.021040481298041414\n"
     ]
    }
   ],
   "source": [
    "print(\"***** SCHWEFEL FUNCTION COMPARASION *****\")\n",
    "print('Global min value mean (Evolutionary): ', numpy.mean(schwefel_min_values_evolutionary))\n",
    "print('Global min value mean (Genetic): ', numpy.mean(schwefel_min_values_genetic))"
   ]
  },
  {
   "attachments": {},
   "cell_type": "markdown",
   "metadata": {},
   "source": [
    "##### Rosenbrock function"
   ]
  },
  {
   "cell_type": "code",
   "execution_count": 13,
   "metadata": {},
   "outputs": [],
   "source": [
    "min_value, max_value = -5, 10\n",
    "rosenbrock_min_values_genetic = []\n",
    "rosenbrock_min_values_evolutionary = []\n",
    "params = {\n",
    "    \"pop_size\": POPULATION_SIZE,\n",
    "    \"num_generations\": NUM_GENERATIONS,\n",
    "    \"mutation_rate\": MUTATION_RATE,\n",
    "    \"crossover_prob\": CROSSOVER_PROB,\n",
    "    \"elitism_size\": ELITISM_SIZE,\n",
    "    \"num_childs\": NUM_CHILDS,\n",
    "    \"dimensions\": DIMENSIONS,\n",
    "    \"min_value\": min_value,\n",
    "    \"max_value\": max_value,\n",
    "    \"current_function\": rosenbrock_function,\n",
    "}"
   ]
  },
  {
   "attachments": {},
   "cell_type": "markdown",
   "metadata": {},
   "source": [
    "- ##### Algoritmo Genético"
   ]
  },
  {
   "cell_type": "code",
   "execution_count": 14,
   "metadata": {},
   "outputs": [
    {
     "name": "stdout",
     "output_type": "stream",
     "text": [
      "Global Minimum Value: 10.536511551722839\n",
      "Global Minimum Value: 19.566876190512875\n",
      "Global Minimum Value: 11.272797445632426\n",
      "Global Minimum Value: 77.50753241152744\n",
      "Global Minimum Value: 27.10807052032362\n"
     ]
    }
   ],
   "source": [
    "for i in range(NUMBER_OF_EXECUTIONS):\n",
    "   global_min_value = genetic_algorithm(**params)\n",
    "   rosenbrock_min_values_genetic.append(global_min_value)"
   ]
  },
  {
   "attachments": {},
   "cell_type": "markdown",
   "metadata": {},
   "source": [
    "- ##### Algoritmo Evolutivo"
   ]
  },
  {
   "cell_type": "code",
   "execution_count": 15,
   "metadata": {},
   "outputs": [
    {
     "name": "stdout",
     "output_type": "stream",
     "text": [
      "Global Minimum Value: 18.72996370897926\n",
      "Global Minimum Value: 71.58218330240568\n",
      "Global Minimum Value: 1.2188489148601067\n",
      "Global Minimum Value: 81.45805944577019\n",
      "Global Minimum Value: 26.659510805536975\n"
     ]
    }
   ],
   "source": [
    "params.pop(\"crossover_prob\")\n",
    "params[\"mutation_rate\"] = 0.8\n",
    "\n",
    "\n",
    "for i in range(NUMBER_OF_EXECUTIONS):\n",
    "   global_min_value = evolution_strategy(**params)\n",
    "   rosenbrock_min_values_evolutionary.append(global_min_value)"
   ]
  },
  {
   "attachments": {},
   "cell_type": "markdown",
   "metadata": {},
   "source": [
    "Results Comparasion"
   ]
  },
  {
   "cell_type": "code",
   "execution_count": 18,
   "metadata": {},
   "outputs": [
    {
     "name": "stdout",
     "output_type": "stream",
     "text": [
      "***** ROSENBROCK FUNCTION COMPARASION *****\n",
      "Global min value mean (Evolutionary):  39.92971323551044\n",
      "Global min value mean (Genetic):  29.19835762394384\n"
     ]
    }
   ],
   "source": [
    "print(\"***** ROSENBROCK FUNCTION COMPARASION *****\")\n",
    "print('Global min value mean (Evolutionary): ', numpy.mean(rosenbrock_min_values_evolutionary))\n",
    "print('Global min value mean (Genetic): ', numpy.mean(rosenbrock_min_values_genetic))"
   ]
  }
 ],
 "metadata": {
  "kernelspec": {
   "display_name": "Python 3",
   "language": "python",
   "name": "python3"
  },
  "language_info": {
   "codemirror_mode": {
    "name": "ipython",
    "version": 3
   },
   "file_extension": ".py",
   "mimetype": "text/x-python",
   "name": "python",
   "nbconvert_exporter": "python",
   "pygments_lexer": "ipython3",
   "version": "3.8.10"
  },
  "orig_nbformat": 4
 },
 "nbformat": 4,
 "nbformat_minor": 2
}
